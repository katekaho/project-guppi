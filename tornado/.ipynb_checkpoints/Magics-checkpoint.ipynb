{
 "cells": [
  {
   "cell_type": "code",
   "execution_count": 27,
   "metadata": {},
   "outputs": [],
   "source": [
    "from IPython.core import magic_arguments\n",
    "from IPython.core.magic import line_magic, cell_magic, line_cell_magic, Magics, magics_class\n",
    "from IPython.display import HTML, display\n",
    "import boto3 \n",
    "import pandas as pd\n",
    " \n",
    "@magics_class\n",
    "class TestMagics(Magics):\n",
    "    @cell_magic\n",
    "    def hello(self, line='', cell=None):\n",
    "        print('hello ' + cell)\n",
    " \n",
    "    @line_magic\n",
    "    def hi(self, line):\n",
    "        print('hi ' + line)\n",
    "        \n",
    "    @line_magic\n",
    "    def db(self, line):\n",
    "        ec2client = boto3.client('ec2')\n",
    "        response = ec2client.describe_instances()\n",
    "        reservations = response.get('Reservations')\n",
    "        instances = []\n",
    "        for reservation in reservations:\n",
    "            reservationInstances = reservation.get('Instances')\n",
    "            for inst in reservationInstances:\n",
    "                instances.append(inst)\n",
    "        \n",
    "        instancesFormatted = []\n",
    "        \n",
    "        for instance in instances:\n",
    "            tags = instance.get('Tags', [])\n",
    "            name = ''\n",
    "            for tag in tags:\n",
    "                tagKey = tag.get('Key', '')\n",
    "                if tagKey == 'Name':\n",
    "                    name = tag['Value']\n",
    "\n",
    "            placement = instance['Placement']\n",
    "            availabilityZone = placement['AvailabilityZone']\n",
    "\n",
    "            state = instance['State']\n",
    "            stateName = state.get('Name', '')\n",
    "\n",
    "            launchTime = instance.get('LaunchTime', '')\n",
    "\n",
    "            if len(name) > 20:\n",
    "                name = name[:20] + '...'\n",
    "\n",
    "            formatInst = {\n",
    "                'Name': name,\n",
    "                'Instance Id': instance.get('InstanceId', ''),\n",
    "                'Instance Type': instance.get('InstanceType', ''),\n",
    "                'Availability Zone': availabilityZone,\n",
    "                'State': stateName,\n",
    "                'Key Name': instance.get('KeyName', ''),\n",
    "                'Launch Time': launchTime,\n",
    "            }\n",
    "            instancesFormatted.append(formatInst)\n",
    "        display(HTML(\n",
    "        '<table><tr>{}</tr></table>'.format(\n",
    "           '</tr><tr>'.join(\n",
    "           '<td>{}</td>'.format('</td><td>'.join(str(key) for key in row)) for row in instancesFormatted)\n",
    "       )\n",
    "        ))\n",
    " \n",
    "ip = get_ipython()\n",
    "ip.register_magics(TestMagics)"
   ]
  },
  {
   "cell_type": "code",
   "execution_count": 28,
   "metadata": {},
   "outputs": [
    {
     "data": {
      "text/html": [
       "<table><tr><td>Name</td><td>Instance Id</td><td>Instance Type</td><td>Availability Zone</td><td>State</td><td>Key Name</td><td>Launch Time</td></tr></table>"
      ],
      "text/plain": [
       "<IPython.core.display.HTML object>"
      ]
     },
     "metadata": {},
     "output_type": "display_data"
    },
    {
     "data": {
      "text/plain": [
       "[{'Availability Zone': 'us-west-1c',\n",
       "  'Instance Id': 'i-0c61ebe4a24d26901',\n",
       "  'Instance Type': 't2.micro',\n",
       "  'Key Name': 'key_pair_guppi',\n",
       "  'Launch Time': datetime.datetime(2019, 2, 14, 23, 33, 57, tzinfo=tzutc()),\n",
       "  'Name': '',\n",
       "  'State': 'terminated'}]"
      ]
     },
     "metadata": {},
     "output_type": "display_data"
    }
   ],
   "source": [
    "%db"
   ]
  },
  {
   "cell_type": "code",
   "execution_count": null,
   "metadata": {},
   "outputs": [],
   "source": []
  },
  {
   "cell_type": "code",
   "execution_count": null,
   "metadata": {},
   "outputs": [],
   "source": []
  },
  {
   "cell_type": "code",
   "execution_count": null,
   "metadata": {},
   "outputs": [],
   "source": []
  },
  {
   "cell_type": "code",
   "execution_count": null,
   "metadata": {},
   "outputs": [],
   "source": []
  },
  {
   "cell_type": "code",
   "execution_count": null,
   "metadata": {},
   "outputs": [],
   "source": []
  },
  {
   "cell_type": "code",
   "execution_count": null,
   "metadata": {},
   "outputs": [],
   "source": []
  },
  {
   "cell_type": "code",
   "execution_count": null,
   "metadata": {},
   "outputs": [],
   "source": []
  },
  {
   "cell_type": "code",
   "execution_count": null,
   "metadata": {},
   "outputs": [],
   "source": []
  },
  {
   "cell_type": "code",
   "execution_count": null,
   "metadata": {},
   "outputs": [],
   "source": []
  },
  {
   "cell_type": "code",
   "execution_count": null,
   "metadata": {},
   "outputs": [],
   "source": []
  },
  {
   "cell_type": "code",
   "execution_count": null,
   "metadata": {},
   "outputs": [],
   "source": []
  }
 ],
 "metadata": {
  "kernelspec": {
   "display_name": "Python 3",
   "language": "python",
   "name": "python3"
  },
  "language_info": {
   "codemirror_mode": {
    "name": "ipython",
    "version": 3
   },
   "file_extension": ".py",
   "mimetype": "text/x-python",
   "name": "python",
   "nbconvert_exporter": "python",
   "pygments_lexer": "ipython3",
   "version": "3.6.7"
  }
 },
 "nbformat": 4,
 "nbformat_minor": 2
}
