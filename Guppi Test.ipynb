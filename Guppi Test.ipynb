{
 "cells": [
  {
   "cell_type": "code",
   "execution_count": 1,
   "metadata": {
    "scrolled": true
   },
   "outputs": [
    {
     "name": "stdout",
     "output_type": "stream",
     "text": [
      "For useage: use %guppi help\n",
      "loading plugin: AmazonService\n",
      "loading plugin: GoogleService\n",
      "plugins loaded\n"
     ]
    }
   ],
   "source": [
    "%reload_ext guppimagic"
   ]
  },
  {
   "cell_type": "code",
   "execution_count": 2,
   "metadata": {},
   "outputs": [
    {
     "name": "stdout",
     "output_type": "stream",
     "text": [
      "set cloud interactions to GoogleService\n"
     ]
    }
   ],
   "source": [
    "%guppi switch GoogleService"
   ]
  },
  {
   "cell_type": "code",
   "execution_count": 3,
   "metadata": {},
   "outputs": [
    {
     "name": "stdout",
     "output_type": "stream",
     "text": [
      "set cloud interactions to AmazonService\n"
     ]
    }
   ],
   "source": [
    "%guppi switch AmazonService"
   ]
  },
  {
   "cell_type": "code",
   "execution_count": 2,
   "metadata": {
    "scrolled": false
   },
   "outputs": [
    {
     "data": {
      "application/vnd.jupyter.widget-view+json": {
       "model_id": "c1e5341c2e7442d6bc09a5891e4f1a18",
       "version_major": 2,
       "version_minor": 0
      },
      "text/plain": [
       "HTML(value='<h4>GOOGLE SERVICE Instances</h4>')"
      ]
     },
     "metadata": {},
     "output_type": "display_data"
    },
    {
     "data": {
      "application/vnd.jupyter.widget-view+json": {
       "model_id": "7eb1f7fdbc68422f91e28aa4c0021802",
       "version_major": 2,
       "version_minor": 0
      },
      "text/plain": [
       "Tab(children=(VBox(children=(Accordion(children=(VBox(children=(HBox(children=(HTML(value='<b>Instance Type:</…"
      ]
     },
     "metadata": {},
     "output_type": "display_data"
    }
   ],
   "source": [
    "%guppi cloud google view"
   ]
  },
  {
   "cell_type": "code",
   "execution_count": 4,
   "metadata": {
    "scrolled": true
   },
   "outputs": [
    {
     "name": "stdout",
     "output_type": "stream",
     "text": [
      "Running, please wait...\n"
     ]
    },
    {
     "name": "stderr",
     "output_type": "stream",
     "text": [
      "Exception in thread Thread-23:\n",
      "Traceback (most recent call last):\n",
      "  File \"/usr/lib/python3.6/threading.py\", line 916, in _bootstrap_inner\n",
      "    self.run()\n",
      "  File \"/usr/lib/python3.6/threading.py\", line 864, in run\n",
      "    self._target(*self._args, **self._kwargs)\n",
      "  File \"/mnt/c/Users/japhy/projects/project-guppy/plugins/GoogleService/GoogleService.py\", line 219, in sshThread\n",
      "    key_filename=user_and_key[1])\n",
      "  File \"/usr/local/lib/python3.6/dist-packages/paramiko/client.py\", line 437, in connect\n",
      "    passphrase,\n",
      "  File \"/usr/local/lib/python3.6/dist-packages/paramiko/client.py\", line 749, in _auth\n",
      "    raise saved_exception\n",
      "  File \"/usr/local/lib/python3.6/dist-packages/paramiko/client.py\", line 662, in _auth\n",
      "    key_filename, pkey_class, passphrase\n",
      "  File \"/usr/local/lib/python3.6/dist-packages/paramiko/client.py\", line 571, in _key_from_filepath\n",
      "    key = klass.from_private_key_file(key_path, password)\n",
      "  File \"/usr/local/lib/python3.6/dist-packages/paramiko/pkey.py\", line 206, in from_private_key_file\n",
      "    key = cls(filename=filename, password=password)\n",
      "  File \"/usr/local/lib/python3.6/dist-packages/paramiko/ed25519key.py\", line 76, in __init__\n",
      "    data = self._read_private_key(\"OPENSSH\", f)\n",
      "  File \"/usr/local/lib/python3.6/dist-packages/paramiko/pkey.py\", line 289, in _read_private_key\n",
      "    raise SSHException(\"not a valid \" + tag + \" private key file\")\n",
      "paramiko.ssh_exception.SSHException: not a valid OPENSSH private key file\n",
      "\n",
      "Exception in thread Thread-22:\n",
      "Traceback (most recent call last):\n",
      "  File \"/usr/lib/python3.6/threading.py\", line 916, in _bootstrap_inner\n",
      "    self.run()\n",
      "  File \"/usr/lib/python3.6/threading.py\", line 864, in run\n",
      "    self._target(*self._args, **self._kwargs)\n",
      "  File \"/mnt/c/Users/japhy/projects/project-guppy/plugins/GoogleService/GoogleService.py\", line 219, in sshThread\n",
      "    key_filename=user_and_key[1])\n",
      "  File \"/usr/local/lib/python3.6/dist-packages/paramiko/client.py\", line 437, in connect\n",
      "    passphrase,\n",
      "  File \"/usr/local/lib/python3.6/dist-packages/paramiko/client.py\", line 749, in _auth\n",
      "    raise saved_exception\n",
      "  File \"/usr/local/lib/python3.6/dist-packages/paramiko/client.py\", line 662, in _auth\n",
      "    key_filename, pkey_class, passphrase\n",
      "  File \"/usr/local/lib/python3.6/dist-packages/paramiko/client.py\", line 571, in _key_from_filepath\n",
      "    key = klass.from_private_key_file(key_path, password)\n",
      "  File \"/usr/local/lib/python3.6/dist-packages/paramiko/pkey.py\", line 206, in from_private_key_file\n",
      "    key = cls(filename=filename, password=password)\n",
      "  File \"/usr/local/lib/python3.6/dist-packages/paramiko/ed25519key.py\", line 76, in __init__\n",
      "    data = self._read_private_key(\"OPENSSH\", f)\n",
      "  File \"/usr/local/lib/python3.6/dist-packages/paramiko/pkey.py\", line 289, in _read_private_key\n",
      "    raise SSHException(\"not a valid \" + tag + \" private key file\")\n",
      "paramiko.ssh_exception.SSHException: not a valid OPENSSH private key file\n",
      "\n",
      "Exception in thread Thread-21:\n",
      "Traceback (most recent call last):\n",
      "  File \"/usr/lib/python3.6/threading.py\", line 916, in _bootstrap_inner\n",
      "    self.run()\n",
      "  File \"/usr/lib/python3.6/threading.py\", line 864, in run\n",
      "    self._target(*self._args, **self._kwargs)\n",
      "  File \"/mnt/c/Users/japhy/projects/project-guppy/plugins/GoogleService/GoogleService.py\", line 219, in sshThread\n",
      "    key_filename=user_and_key[1])\n",
      "  File \"/usr/local/lib/python3.6/dist-packages/paramiko/client.py\", line 437, in connect\n",
      "    passphrase,\n",
      "  File \"/usr/local/lib/python3.6/dist-packages/paramiko/client.py\", line 749, in _auth\n",
      "    raise saved_exception\n",
      "  File \"/usr/local/lib/python3.6/dist-packages/paramiko/client.py\", line 662, in _auth\n",
      "    key_filename, pkey_class, passphrase\n",
      "  File \"/usr/local/lib/python3.6/dist-packages/paramiko/client.py\", line 571, in _key_from_filepath\n",
      "    key = klass.from_private_key_file(key_path, password)\n",
      "  File \"/usr/local/lib/python3.6/dist-packages/paramiko/pkey.py\", line 206, in from_private_key_file\n",
      "    key = cls(filename=filename, password=password)\n",
      "  File \"/usr/local/lib/python3.6/dist-packages/paramiko/ed25519key.py\", line 76, in __init__\n",
      "    data = self._read_private_key(\"OPENSSH\", f)\n",
      "  File \"/usr/local/lib/python3.6/dist-packages/paramiko/pkey.py\", line 289, in _read_private_key\n",
      "    raise SSHException(\"not a valid \" + tag + \" private key file\")\n",
      "paramiko.ssh_exception.SSHException: not a valid OPENSSH private key file\n",
      "\n",
      "Exception in thread Thread-19:\n",
      "Traceback (most recent call last):\n",
      "  File \"/usr/lib/python3.6/threading.py\", line 916, in _bootstrap_inner\n",
      "    self.run()\n",
      "  File \"/usr/lib/python3.6/threading.py\", line 864, in run\n",
      "    self._target(*self._args, **self._kwargs)\n",
      "  File \"/mnt/c/Users/japhy/projects/project-guppy/plugins/GoogleService/GoogleService.py\", line 219, in sshThread\n",
      "    key_filename=user_and_key[1])\n",
      "  File \"/usr/local/lib/python3.6/dist-packages/paramiko/client.py\", line 437, in connect\n",
      "    passphrase,\n",
      "  File \"/usr/local/lib/python3.6/dist-packages/paramiko/client.py\", line 749, in _auth\n",
      "    raise saved_exception\n",
      "  File \"/usr/local/lib/python3.6/dist-packages/paramiko/client.py\", line 662, in _auth\n",
      "    key_filename, pkey_class, passphrase\n",
      "  File \"/usr/local/lib/python3.6/dist-packages/paramiko/client.py\", line 571, in _key_from_filepath\n",
      "    key = klass.from_private_key_file(key_path, password)\n",
      "  File \"/usr/local/lib/python3.6/dist-packages/paramiko/pkey.py\", line 206, in from_private_key_file\n",
      "    key = cls(filename=filename, password=password)\n",
      "  File \"/usr/local/lib/python3.6/dist-packages/paramiko/ed25519key.py\", line 76, in __init__\n",
      "    data = self._read_private_key(\"OPENSSH\", f)\n",
      "  File \"/usr/local/lib/python3.6/dist-packages/paramiko/pkey.py\", line 289, in _read_private_key\n",
      "    raise SSHException(\"not a valid \" + tag + \" private key file\")\n",
      "paramiko.ssh_exception.SSHException: not a valid OPENSSH private key file\n",
      "\n",
      "Exception in thread Thread-20:\n",
      "Traceback (most recent call last):\n",
      "  File \"/usr/lib/python3.6/threading.py\", line 916, in _bootstrap_inner\n",
      "    self.run()\n",
      "  File \"/usr/lib/python3.6/threading.py\", line 864, in run\n",
      "    self._target(*self._args, **self._kwargs)\n",
      "  File \"/mnt/c/Users/japhy/projects/project-guppy/plugins/GoogleService/GoogleService.py\", line 219, in sshThread\n",
      "    key_filename=user_and_key[1])\n",
      "  File \"/usr/local/lib/python3.6/dist-packages/paramiko/client.py\", line 437, in connect\n",
      "    passphrase,\n",
      "  File \"/usr/local/lib/python3.6/dist-packages/paramiko/client.py\", line 749, in _auth\n",
      "    raise saved_exception\n",
      "  File \"/usr/local/lib/python3.6/dist-packages/paramiko/client.py\", line 662, in _auth\n",
      "    key_filename, pkey_class, passphrase\n",
      "  File \"/usr/local/lib/python3.6/dist-packages/paramiko/client.py\", line 571, in _key_from_filepath\n",
      "    key = klass.from_private_key_file(key_path, password)\n",
      "  File \"/usr/local/lib/python3.6/dist-packages/paramiko/pkey.py\", line 206, in from_private_key_file\n",
      "    key = cls(filename=filename, password=password)\n",
      "  File \"/usr/local/lib/python3.6/dist-packages/paramiko/ed25519key.py\", line 76, in __init__\n",
      "    data = self._read_private_key(\"OPENSSH\", f)\n",
      "  File \"/usr/local/lib/python3.6/dist-packages/paramiko/pkey.py\", line 289, in _read_private_key\n",
      "    raise SSHException(\"not a valid \" + tag + \" private key file\")\n",
      "paramiko.ssh_exception.SSHException: not a valid OPENSSH private key file\n",
      "\n"
     ]
    }
   ],
   "source": [
    "%guppi cloud google ssh v group1 pwd"
   ]
  },
  {
   "cell_type": "code",
   "execution_count": 7,
   "metadata": {
    "scrolled": false
   },
   "outputs": [
    {
     "data": {
      "application/vnd.jupyter.widget-view+json": {
       "model_id": "8abc58de2d4e4817a0cb90ec26afa6c8",
       "version_major": 2,
       "version_minor": 0
      },
      "text/plain": [
       "HBox(children=(Dropdown(description='Group: ', options=('Create Group', 'group1', 'Machine Learning'), value='…"
      ]
     },
     "metadata": {},
     "output_type": "display_data"
    },
    {
     "data": {
      "application/vnd.jupyter.widget-view+json": {
       "model_id": "8277e6faf01845d4b9de2d89266f873b",
       "version_major": 2,
       "version_minor": 0
      },
      "text/plain": [
       "HBox(children=(Dropdown(description='Size: ', index=1, options=('t2.nano', 't2.micro', 't2.small', 't2.small',…"
      ]
     },
     "metadata": {},
     "output_type": "display_data"
    },
    {
     "data": {
      "application/vnd.jupyter.widget-view+json": {
       "model_id": "a0bcb474773940f2ae0b23c517095354",
       "version_major": 2,
       "version_minor": 0
      },
      "text/plain": [
       "Button(description='Create Instance', style=ButtonStyle())"
      ]
     },
     "metadata": {},
     "output_type": "display_data"
    },
    {
     "name": "stdout",
     "output_type": "stream",
     "text": [
      "Instance Created.\n"
     ]
    }
   ],
   "source": [
    "%guppi cloud create"
   ]
  },
  {
   "cell_type": "code",
   "execution_count": null,
   "metadata": {},
   "outputs": [],
   "source": []
  }
 ],
 "metadata": {
  "kernelspec": {
   "display_name": "Python 3",
   "language": "python",
   "name": "python3"
  },
  "language_info": {
   "codemirror_mode": {
    "name": "ipython",
    "version": 3
   },
   "file_extension": ".py",
   "mimetype": "text/x-python",
   "name": "python",
   "nbconvert_exporter": "python",
   "pygments_lexer": "ipython3",
   "version": "3.6.7"
  }
 },
 "nbformat": 4,
 "nbformat_minor": 2
}
