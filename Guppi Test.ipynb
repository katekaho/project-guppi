{
 "cells": [
  {
   "cell_type": "code",
   "execution_count": 1,
   "metadata": {
    "scrolled": true
   },
   "outputs": [
    {
     "data": {
      "application/vnd.jupyter.widget-view+json": {
       "model_id": "5ba69e90b5064914ac3a24dd66a59911",
       "version_major": 2,
       "version_minor": 0
      },
      "text/plain": [
       "Box(children=(HTML(value='<h2>Project GUPPI</h2>'),))"
      ]
     },
     "metadata": {},
     "output_type": "display_data"
    },
    {
     "data": {
      "application/vnd.jupyter.widget-view+json": {
       "model_id": "20ac0c969b914767998095b962b410a4",
       "version_major": 2,
       "version_minor": 0
      },
      "text/plain": [
       "Image(value=b'\\x89PNG\\r\\n\\x1a\\n\\x00\\x00\\x00\\rIHDR\\x00\\x00\\x00\\xc8\\x00\\x00\\x00\\xba\\x08\\x06\\x00\\x00\\x00\\xeb\\xb2\\…"
      ]
     },
     "metadata": {},
     "output_type": "display_data"
    },
    {
     "name": "stdout",
     "output_type": "stream",
     "text": [
      "For useage: use %guppi help\n",
      "loading plugin: AmazonService\n",
      "loading plugin: GoogleService\n",
      "plugins loaded\n"
     ]
    }
   ],
   "source": [
    "%reload_ext guppimagic"
   ]
  },
  {
   "cell_type": "code",
   "execution_count": 2,
   "metadata": {},
   "outputs": [
    {
     "data": {
      "application/vnd.jupyter.widget-view+json": {
       "model_id": "aac31c2f67da4b4c8f2d10dbe6ad5953",
       "version_major": 2,
       "version_minor": 0
      },
      "text/plain": [
       "HTML(value='<h4>GOOGLE SERVICE Instances</h4>')"
      ]
     },
     "metadata": {},
     "output_type": "display_data"
    },
    {
     "data": {
      "application/vnd.jupyter.widget-view+json": {
       "model_id": "0c960f7fde534c4681b8bb71da2b50fc",
       "version_major": 2,
       "version_minor": 0
      },
      "text/plain": [
       "Tab(children=(VBox(children=(Accordion(children=(VBox(children=(HBox(children=(HTML(value='<b>Instance ID:</b>…"
      ]
     },
     "metadata": {},
     "output_type": "display_data"
    }
   ],
   "source": [
    "%guppi cloud google view"
   ]
  },
  {
   "cell_type": "code",
   "execution_count": 4,
   "metadata": {
    "scrolled": false
   },
   "outputs": [
    {
     "data": {
      "application/vnd.jupyter.widget-view+json": {
       "model_id": "06edf3a60a5c4ffaaff16d28b89afd2b",
       "version_major": 2,
       "version_minor": 0
      },
      "text/plain": [
       "HTML(value='<h4>SSH into instances </h4>')"
      ]
     },
     "metadata": {},
     "output_type": "display_data"
    },
    {
     "data": {
      "application/vnd.jupyter.widget-view+json": {
       "model_id": "b4e678b2a268400db15e6dea5109306f",
       "version_major": 2,
       "version_minor": 0
      },
      "text/plain": [
       "Tab(children=(VBox(children=(Button(description='Select All', icon='check', style=ButtonStyle()), HBox(childre…"
      ]
     },
     "metadata": {},
     "output_type": "display_data"
    },
    {
     "name": "stdout",
     "output_type": "stream",
     "text": [
      "GOOGLE\n"
     ]
    },
    {
     "name": "stderr",
     "output_type": "stream",
     "text": [
      "Exception in thread Thread-13:\n",
      "Traceback (most recent call last):\n",
      "  File \"/usr/lib/python3.6/threading.py\", line 916, in _bootstrap_inner\n",
      "    self.run()\n",
      "  File \"/usr/lib/python3.6/threading.py\", line 864, in run\n",
      "    self._target(*self._args, **self._kwargs)\n",
      "  File \"/mnt/c/Users/japhy/projects/project-guppy/plugins/GoogleService/GoogleService.py\", line 217, in sshThread\n",
      "    user_and_key = self.get_user_and_keyname()\n",
      "  File \"/mnt/c/Users/japhy/projects/project-guppy/plugins/GoogleService/GoogleService.py\", line 309, in get_user_and_keyname\n",
      "    response = request.execute()\n",
      "  File \"/usr/local/lib/python3.6/dist-packages/googleapiclient/_helpers.py\", line 130, in positional_wrapper\n",
      "    return wrapped(*args, **kwargs)\n",
      "  File \"/usr/local/lib/python3.6/dist-packages/googleapiclient/http.py\", line 846, in execute\n",
      "    method=str(self.method), body=self.body, headers=self.headers)\n",
      "  File \"/usr/local/lib/python3.6/dist-packages/googleapiclient/http.py\", line 164, in _retry_request\n",
      "    resp, content = http.request(uri, method, *args, **kwargs)\n",
      "  File \"/usr/local/lib/python3.6/dist-packages/google_auth_httplib2.py\", line 198, in request\n",
      "    uri, method, body=body, headers=request_headers, **kwargs)\n",
      "  File \"/usr/lib/python3/dist-packages/httplib2/__init__.py\", line 1313, in request\n",
      "    (response, content) = self._request(conn, authority, uri, request_uri, method, body, headers, redirections, cachekey)\n",
      "  File \"/usr/lib/python3/dist-packages/httplib2/__init__.py\", line 1063, in _request\n",
      "    (response, content) = self._conn_request(conn, request_uri, method, body, headers)\n",
      "  File \"/usr/lib/python3/dist-packages/httplib2/__init__.py\", line 1045, in _conn_request\n",
      "    content = response.read()\n",
      "  File \"/usr/lib/python3.6/http/client.py\", line 456, in read\n",
      "    return self._readall_chunked()\n",
      "  File \"/usr/lib/python3.6/http/client.py\", line 563, in _readall_chunked\n",
      "    chunk_left = self._get_chunk_left()\n",
      "  File \"/usr/lib/python3.6/http/client.py\", line 551, in _get_chunk_left\n",
      "    self._read_and_discard_trailer()\n",
      "  File \"/usr/lib/python3.6/http/client.py\", line 524, in _read_and_discard_trailer\n",
      "    line = self.fp.readline(_MAXLINE + 1)\n",
      "AttributeError: 'NoneType' object has no attribute 'readline'\n",
      "\n"
     ]
    }
   ],
   "source": [
    "%guppi cloud multicloud ssh view"
   ]
  },
  {
   "cell_type": "code",
   "execution_count": null,
   "metadata": {
    "scrolled": false
   },
   "outputs": [],
   "source": [
    "%guppi cloud google view"
   ]
  },
  {
   "cell_type": "code",
   "execution_count": 9,
   "metadata": {
    "scrolled": true
   },
   "outputs": [
    {
     "name": "stdout",
     "output_type": "stream",
     "text": [
      "No instances in group 'data-models'\n"
     ]
    }
   ],
   "source": [
    "%guppi cloud google ssh v data-models pwd"
   ]
  },
  {
   "cell_type": "code",
   "execution_count": 5,
   "metadata": {
    "scrolled": false
   },
   "outputs": [
    {
     "data": {
      "application/vnd.jupyter.widget-view+json": {
       "model_id": "44d9a999210e473eab104064f7dbb437",
       "version_major": 2,
       "version_minor": 0
      },
      "text/plain": [
       "HBox(children=(Dropdown(description='Group: ', options=('Create Group',), value='Create Group'), Text(value=''…"
      ]
     },
     "metadata": {},
     "output_type": "display_data"
    },
    {
     "data": {
      "application/vnd.jupyter.widget-view+json": {
       "model_id": "72bda7d96f3546c2978614db1f37468a",
       "version_major": 2,
       "version_minor": 0
      },
      "text/plain": [
       "HBox(children=(Dropdown(description='Size: ', index=1, options=('t2.nano', 't2.micro', 't2.small', 't2.small',…"
      ]
     },
     "metadata": {},
     "output_type": "display_data"
    },
    {
     "data": {
      "application/vnd.jupyter.widget-view+json": {
       "model_id": "71c721d94a24430f9a2c3a91e05e8dc0",
       "version_major": 2,
       "version_minor": 0
      },
      "text/plain": [
       "Button(description='Create Instance', style=ButtonStyle())"
      ]
     },
     "metadata": {},
     "output_type": "display_data"
    },
    {
     "name": "stdout",
     "output_type": "stream",
     "text": [
      "Instance Created.\n"
     ]
    }
   ],
   "source": [
    "%guppi cloud amazon create"
   ]
  },
  {
   "cell_type": "code",
   "execution_count": null,
   "metadata": {},
   "outputs": [],
   "source": []
  }
 ],
 "metadata": {
  "kernelspec": {
   "display_name": "Python 3",
   "language": "python",
   "name": "python3"
  },
  "language_info": {
   "codemirror_mode": {
    "name": "ipython",
    "version": 3
   },
   "file_extension": ".py",
   "mimetype": "text/x-python",
   "name": "python",
   "nbconvert_exporter": "python",
   "pygments_lexer": "ipython3",
   "version": "3.6.7"
  }
 },
 "nbformat": 4,
 "nbformat_minor": 2
}
