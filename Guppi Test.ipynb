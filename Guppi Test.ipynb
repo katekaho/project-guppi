{
 "cells": [
  {
   "cell_type": "code",
   "execution_count": 1,
   "metadata": {
    "scrolled": true
   },
   "outputs": [
    {
     "data": {
      "application/vnd.jupyter.widget-view+json": {
       "model_id": "e532206c395d4af391ba607ee964156a",
       "version_major": 2,
       "version_minor": 0
      },
      "text/plain": [
       "Box(children=(HTML(value='<h2>Project GUPPI</h2>'),))"
      ]
     },
     "metadata": {},
     "output_type": "display_data"
    },
    {
     "data": {
      "application/vnd.jupyter.widget-view+json": {
       "model_id": "814507df4e64463b82f5defe8c614397",
       "version_major": 2,
       "version_minor": 0
      },
      "text/plain": [
       "Image(value=b'\\x89PNG\\r\\n\\x1a\\n\\x00\\x00\\x00\\rIHDR\\x00\\x00\\x00\\xc8\\x00\\x00\\x00\\xba\\x08\\x06\\x00\\x00\\x00\\xeb\\xb2\\…"
      ]
     },
     "metadata": {},
     "output_type": "display_data"
    },
    {
     "name": "stdout",
     "output_type": "stream",
     "text": [
      "For useage: use %guppi help\n",
      "loading plugin: AmazonService\n",
      "loading plugin: GoogleService\n",
      "plugins loaded\n"
     ]
    }
   ],
   "source": [
    "%reload_ext guppimagic"
   ]
  },
  {
   "cell_type": "code",
   "execution_count": 2,
   "metadata": {},
   "outputs": [
    {
     "data": {
      "application/vnd.jupyter.widget-view+json": {
       "model_id": "74a7dfddde004a51a144a8a198c7ec70",
       "version_major": 2,
       "version_minor": 0
      },
      "text/plain": [
       "HTML(value='<h4>MultiCloud Instances</h4>')"
      ]
     },
     "metadata": {},
     "output_type": "display_data"
    },
    {
     "data": {
      "application/vnd.jupyter.widget-view+json": {
       "model_id": "d3d67497b82440ccac4b071b6dca0801",
       "version_major": 2,
       "version_minor": 0
      },
      "text/plain": [
       "Tab(children=(VBox(children=(Accordion(children=(VBox(children=(HBox(children=(HTML(value='<b>Instance ID:</b>…"
      ]
     },
     "metadata": {},
     "output_type": "display_data"
    }
   ],
   "source": [
    "%guppi cloud multicloud view"
   ]
  },
  {
   "cell_type": "code",
   "execution_count": 2,
   "metadata": {
    "scrolled": false
   },
   "outputs": [
    {
     "data": {
      "application/vnd.jupyter.widget-view+json": {
       "model_id": "134760cf581b473898b8c5c573b5413d",
       "version_major": 2,
       "version_minor": 0
      },
      "text/plain": [
       "HTML(value='<h4>SSH into instances </h4>')"
      ]
     },
     "metadata": {},
     "output_type": "display_data"
    },
    {
     "data": {
      "application/vnd.jupyter.widget-view+json": {
       "model_id": "ae0c3e119da64ced9eede47813107dd2",
       "version_major": 2,
       "version_minor": 0
      },
      "text/plain": [
       "Tab(children=(VBox(children=(Button(description='Select All', icon='check', style=ButtonStyle()), HBox(childre…"
      ]
     },
     "metadata": {},
     "output_type": "display_data"
    },
    {
     "name": "stdout",
     "output_type": "stream",
     "text": [
      "AMAZON\n",
      "=======================================================\n",
      "i-0f841e1593c817389\n",
      "=======================================================\n",
      "Successfully ran 1 command\n",
      "\n",
      "GOOGLE\n",
      "=======================================================\n",
      "google-pw27\n",
      "=======================================================\n",
      "Successfully ran 1 command\n",
      "\n",
      "AMAZON\n",
      "=======================================================\n",
      "i-0f841e1593c817389\n",
      "=======================================================\n",
      "/home/ec2-user\n",
      "Successfully ran 1 command\n",
      "\n",
      "GOOGLE\n",
      "=======================================================\n",
      "google-pw27\n",
      "=======================================================\n",
      "/home/project_guppi_gmail_com\n",
      "Successfully ran 1 command\n",
      "\n"
     ]
    }
   ],
   "source": [
    "%guppi cloud multicloud ssh view"
   ]
  },
  {
   "cell_type": "code",
   "execution_count": null,
   "metadata": {
    "scrolled": false
   },
   "outputs": [],
   "source": [
    "%guppi cloud google view"
   ]
  },
  {
   "cell_type": "code",
   "execution_count": null,
   "metadata": {
    "scrolled": true
   },
   "outputs": [],
   "source": [
    "%guppi cloud google ssh v data-models pwd"
   ]
  },
  {
   "cell_type": "code",
   "execution_count": null,
   "metadata": {
    "scrolled": false
   },
   "outputs": [],
   "source": [
    "%guppi cloud multicloud create"
   ]
  },
  {
   "cell_type": "code",
   "execution_count": 3,
   "metadata": {},
   "outputs": [
    {
     "data": {
      "text/markdown": [
       "| Description                                     | Command                                                      |\n",
       "| :---------------------------------------------: | ------------------------------------------------------------ |\n",
       "| view running cloud instances                    | %guppi cloud <cloud_service> view                            |\n",
       "| view all running cloud instances                | %guppi cloud multicloud view                                 |\n",
       "| create a new instance                           | %guppi cloud <cloud_service> create                          |\n",
       "| ssh into running cloud instances with a GUI     | %guppi cloud <cloud_service> ssh view                        |\n",
       "| ssh into all running cloud instances with a GUI | %guppi cloud multicloud ssh view                             |\n",
       "| ssh into running cloud instances without a GUI  | %guppi cloud <cloud_service> ssh [v] <group_name> <commands> |\n"
      ],
      "text/plain": [
       "<IPython.core.display.Markdown object>"
      ]
     },
     "metadata": {},
     "output_type": "display_data"
    }
   ],
   "source": [
    "%guppi help"
   ]
  }
 ],
 "metadata": {
  "kernelspec": {
   "display_name": "Python 3",
   "language": "python",
   "name": "python3"
  },
  "language_info": {
   "codemirror_mode": {
    "name": "ipython",
    "version": 3
   },
   "file_extension": ".py",
   "mimetype": "text/x-python",
   "name": "python",
   "nbconvert_exporter": "python",
   "pygments_lexer": "ipython3",
   "version": "3.7.3"
  }
 },
 "nbformat": 4,
 "nbformat_minor": 2
}
