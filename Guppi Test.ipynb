{
 "cells": [
  {
   "cell_type": "code",
   "execution_count": 1,
   "metadata": {
    "scrolled": true
   },
   "outputs": [
    {
     "name": "stdout",
     "output_type": "stream",
     "text": [
      "For useage: use %guppi help\n",
      "loading plugin: AmazonService\n",
      "loading plugin: GoogleService\n",
      "plugins loaded\n"
     ]
    }
   ],
   "source": [
    "%reload_ext guppimagic"
   ]
  },
  {
   "cell_type": "code",
   "execution_count": 2,
   "metadata": {},
   "outputs": [
    {
     "name": "stdout",
     "output_type": "stream",
     "text": [
      "set cloud interactions to GoogleService\n"
     ]
    }
   ],
   "source": [
    "%guppi switch GoogleService"
   ]
  },
  {
   "cell_type": "code",
   "execution_count": 3,
   "metadata": {},
   "outputs": [
    {
     "name": "stdout",
     "output_type": "stream",
     "text": [
      "set cloud interactions to AmazonService\n"
     ]
    }
   ],
   "source": [
    "%guppi switch AmazonService"
   ]
  },
  {
   "cell_type": "code",
   "execution_count": 4,
   "metadata": {
    "scrolled": false
   },
   "outputs": [
    {
     "ename": "AttributeError",
     "evalue": "'int' object has no attribute 'name'",
     "output_type": "error",
     "traceback": [
      "\u001b[0;31m---------------------------------------------------------------------------\u001b[0m",
      "\u001b[0;31mAttributeError\u001b[0m                            Traceback (most recent call last)",
      "\u001b[0;32m<ipython-input-4-c930d0817fb8>\u001b[0m in \u001b[0;36m<module>\u001b[0;34m()\u001b[0m\n\u001b[0;32m----> 1\u001b[0;31m \u001b[0mget_ipython\u001b[0m\u001b[0;34m(\u001b[0m\u001b[0;34m)\u001b[0m\u001b[0;34m.\u001b[0m\u001b[0mmagic\u001b[0m\u001b[0;34m(\u001b[0m\u001b[0;34m'guppi cloud google view'\u001b[0m\u001b[0;34m)\u001b[0m\u001b[0;34m\u001b[0m\u001b[0;34m\u001b[0m\u001b[0m\n\u001b[0m",
      "\u001b[0;32m/usr/lib/python3/dist-packages/IPython/core/interactiveshell.py\u001b[0m in \u001b[0;36mmagic\u001b[0;34m(self, arg_s)\u001b[0m\n\u001b[1;32m   2158\u001b[0m         \u001b[0mmagic_name\u001b[0m\u001b[0;34m,\u001b[0m \u001b[0m_\u001b[0m\u001b[0;34m,\u001b[0m \u001b[0mmagic_arg_s\u001b[0m \u001b[0;34m=\u001b[0m \u001b[0marg_s\u001b[0m\u001b[0;34m.\u001b[0m\u001b[0mpartition\u001b[0m\u001b[0;34m(\u001b[0m\u001b[0;34m' '\u001b[0m\u001b[0;34m)\u001b[0m\u001b[0;34m\u001b[0m\u001b[0;34m\u001b[0m\u001b[0m\n\u001b[1;32m   2159\u001b[0m         \u001b[0mmagic_name\u001b[0m \u001b[0;34m=\u001b[0m \u001b[0mmagic_name\u001b[0m\u001b[0;34m.\u001b[0m\u001b[0mlstrip\u001b[0m\u001b[0;34m(\u001b[0m\u001b[0mprefilter\u001b[0m\u001b[0;34m.\u001b[0m\u001b[0mESC_MAGIC\u001b[0m\u001b[0;34m)\u001b[0m\u001b[0;34m\u001b[0m\u001b[0;34m\u001b[0m\u001b[0m\n\u001b[0;32m-> 2160\u001b[0;31m         \u001b[0;32mreturn\u001b[0m \u001b[0mself\u001b[0m\u001b[0;34m.\u001b[0m\u001b[0mrun_line_magic\u001b[0m\u001b[0;34m(\u001b[0m\u001b[0mmagic_name\u001b[0m\u001b[0;34m,\u001b[0m \u001b[0mmagic_arg_s\u001b[0m\u001b[0;34m)\u001b[0m\u001b[0;34m\u001b[0m\u001b[0;34m\u001b[0m\u001b[0m\n\u001b[0m\u001b[1;32m   2161\u001b[0m \u001b[0;34m\u001b[0m\u001b[0m\n\u001b[1;32m   2162\u001b[0m     \u001b[0;31m#-------------------------------------------------------------------------\u001b[0m\u001b[0;34m\u001b[0m\u001b[0;34m\u001b[0m\u001b[0;34m\u001b[0m\u001b[0m\n",
      "\u001b[0;32m/usr/lib/python3/dist-packages/IPython/core/interactiveshell.py\u001b[0m in \u001b[0;36mrun_line_magic\u001b[0;34m(self, magic_name, line)\u001b[0m\n\u001b[1;32m   2079\u001b[0m                 \u001b[0mkwargs\u001b[0m\u001b[0;34m[\u001b[0m\u001b[0;34m'local_ns'\u001b[0m\u001b[0;34m]\u001b[0m \u001b[0;34m=\u001b[0m \u001b[0msys\u001b[0m\u001b[0;34m.\u001b[0m\u001b[0m_getframe\u001b[0m\u001b[0;34m(\u001b[0m\u001b[0mstack_depth\u001b[0m\u001b[0;34m)\u001b[0m\u001b[0;34m.\u001b[0m\u001b[0mf_locals\u001b[0m\u001b[0;34m\u001b[0m\u001b[0;34m\u001b[0m\u001b[0m\n\u001b[1;32m   2080\u001b[0m             \u001b[0;32mwith\u001b[0m \u001b[0mself\u001b[0m\u001b[0;34m.\u001b[0m\u001b[0mbuiltin_trap\u001b[0m\u001b[0;34m:\u001b[0m\u001b[0;34m\u001b[0m\u001b[0;34m\u001b[0m\u001b[0m\n\u001b[0;32m-> 2081\u001b[0;31m                 \u001b[0mresult\u001b[0m \u001b[0;34m=\u001b[0m \u001b[0mfn\u001b[0m\u001b[0;34m(\u001b[0m\u001b[0;34m*\u001b[0m\u001b[0margs\u001b[0m\u001b[0;34m,\u001b[0m\u001b[0;34m**\u001b[0m\u001b[0mkwargs\u001b[0m\u001b[0;34m)\u001b[0m\u001b[0;34m\u001b[0m\u001b[0;34m\u001b[0m\u001b[0m\n\u001b[0m\u001b[1;32m   2082\u001b[0m             \u001b[0;32mreturn\u001b[0m \u001b[0mresult\u001b[0m\u001b[0;34m\u001b[0m\u001b[0;34m\u001b[0m\u001b[0m\n\u001b[1;32m   2083\u001b[0m \u001b[0;34m\u001b[0m\u001b[0m\n",
      "\u001b[0;32m<decorator-gen-123>\u001b[0m in \u001b[0;36mguppi\u001b[0;34m(self, line)\u001b[0m\n",
      "\u001b[0;32m/usr/lib/python3/dist-packages/IPython/core/magic.py\u001b[0m in \u001b[0;36m<lambda>\u001b[0;34m(f, *a, **k)\u001b[0m\n\u001b[1;32m    186\u001b[0m     \u001b[0;31m# but it's overkill for just that one bit of state.\u001b[0m\u001b[0;34m\u001b[0m\u001b[0;34m\u001b[0m\u001b[0;34m\u001b[0m\u001b[0m\n\u001b[1;32m    187\u001b[0m     \u001b[0;32mdef\u001b[0m \u001b[0mmagic_deco\u001b[0m\u001b[0;34m(\u001b[0m\u001b[0marg\u001b[0m\u001b[0;34m)\u001b[0m\u001b[0;34m:\u001b[0m\u001b[0;34m\u001b[0m\u001b[0;34m\u001b[0m\u001b[0m\n\u001b[0;32m--> 188\u001b[0;31m         \u001b[0mcall\u001b[0m \u001b[0;34m=\u001b[0m \u001b[0;32mlambda\u001b[0m \u001b[0mf\u001b[0m\u001b[0;34m,\u001b[0m \u001b[0;34m*\u001b[0m\u001b[0ma\u001b[0m\u001b[0;34m,\u001b[0m \u001b[0;34m**\u001b[0m\u001b[0mk\u001b[0m\u001b[0;34m:\u001b[0m \u001b[0mf\u001b[0m\u001b[0;34m(\u001b[0m\u001b[0;34m*\u001b[0m\u001b[0ma\u001b[0m\u001b[0;34m,\u001b[0m \u001b[0;34m**\u001b[0m\u001b[0mk\u001b[0m\u001b[0;34m)\u001b[0m\u001b[0;34m\u001b[0m\u001b[0;34m\u001b[0m\u001b[0m\n\u001b[0m\u001b[1;32m    189\u001b[0m \u001b[0;34m\u001b[0m\u001b[0m\n\u001b[1;32m    190\u001b[0m         \u001b[0;32mif\u001b[0m \u001b[0mcallable\u001b[0m\u001b[0;34m(\u001b[0m\u001b[0marg\u001b[0m\u001b[0;34m)\u001b[0m\u001b[0;34m:\u001b[0m\u001b[0;34m\u001b[0m\u001b[0;34m\u001b[0m\u001b[0m\n",
      "\u001b[0;32m/mnt/c/Users/japhy/projects/project-guppy/guppimagic.py\u001b[0m in \u001b[0;36mguppi\u001b[0;34m(self, line)\u001b[0m\n\u001b[1;32m    109\u001b[0m                                         \u001b[0mindex\u001b[0m \u001b[0;34m=\u001b[0m \u001b[0;36m0\u001b[0m\u001b[0;34m\u001b[0m\u001b[0;34m\u001b[0m\u001b[0m\n\u001b[1;32m    110\u001b[0m                                         \u001b[0;32mfor\u001b[0m \u001b[0mcloudService\u001b[0m\u001b[0;34m,\u001b[0m \u001b[0mi\u001b[0m \u001b[0;32min\u001b[0m \u001b[0menumerate\u001b[0m\u001b[0;34m(\u001b[0m\u001b[0mself\u001b[0m\u001b[0;34m.\u001b[0m\u001b[0mcloud_list\u001b[0m\u001b[0;34m)\u001b[0m\u001b[0;34m:\u001b[0m\u001b[0;34m\u001b[0m\u001b[0;34m\u001b[0m\u001b[0m\n\u001b[0;32m--> 111\u001b[0;31m                                                 \u001b[0;32mif\u001b[0m \u001b[0mcloudService\u001b[0m\u001b[0;34m.\u001b[0m\u001b[0mname\u001b[0m\u001b[0;34m.\u001b[0m\u001b[0mcasefold\u001b[0m\u001b[0;34m(\u001b[0m\u001b[0;34m)\u001b[0m \u001b[0;34m==\u001b[0m \u001b[0mserviceStr\u001b[0m\u001b[0;34m.\u001b[0m\u001b[0mcasefold\u001b[0m\u001b[0;34m(\u001b[0m\u001b[0;34m)\u001b[0m\u001b[0;34m:\u001b[0m\u001b[0;34m\u001b[0m\u001b[0;34m\u001b[0m\u001b[0m\n\u001b[0m\u001b[1;32m    112\u001b[0m                                                         \u001b[0mindex\u001b[0m \u001b[0;34m=\u001b[0m \u001b[0mi\u001b[0m\u001b[0;34m\u001b[0m\u001b[0;34m\u001b[0m\u001b[0m\n\u001b[1;32m    113\u001b[0m                                         \u001b[0muser_interfaces\u001b[0m\u001b[0;34m.\u001b[0m\u001b[0mCloudInterface\u001b[0m\u001b[0;34m.\u001b[0m\u001b[0mrender_cloud_interface\u001b[0m\u001b[0;34m(\u001b[0m\u001b[0mself\u001b[0m\u001b[0;34m.\u001b[0m\u001b[0mcloud_list\u001b[0m\u001b[0;34m,\u001b[0m \u001b[0mindex\u001b[0m\u001b[0;34m)\u001b[0m\u001b[0;34m\u001b[0m\u001b[0;34m\u001b[0m\u001b[0m\n",
      "\u001b[0;31mAttributeError\u001b[0m: 'int' object has no attribute 'name'"
     ]
    }
   ],
   "source": [
    "%guppi cloud google view"
   ]
  },
  {
   "cell_type": "code",
   "execution_count": 4,
   "metadata": {
    "scrolled": true
   },
   "outputs": [
    {
     "name": "stdout",
     "output_type": "stream",
     "text": [
      "Running, please wait...\n"
     ]
    },
    {
     "name": "stderr",
     "output_type": "stream",
     "text": [
      "Exception in thread Thread-23:\n",
      "Traceback (most recent call last):\n",
      "  File \"/usr/lib/python3.6/threading.py\", line 916, in _bootstrap_inner\n",
      "    self.run()\n",
      "  File \"/usr/lib/python3.6/threading.py\", line 864, in run\n",
      "    self._target(*self._args, **self._kwargs)\n",
      "  File \"/mnt/c/Users/japhy/projects/project-guppy/plugins/GoogleService/GoogleService.py\", line 219, in sshThread\n",
      "    key_filename=user_and_key[1])\n",
      "  File \"/usr/local/lib/python3.6/dist-packages/paramiko/client.py\", line 437, in connect\n",
      "    passphrase,\n",
      "  File \"/usr/local/lib/python3.6/dist-packages/paramiko/client.py\", line 749, in _auth\n",
      "    raise saved_exception\n",
      "  File \"/usr/local/lib/python3.6/dist-packages/paramiko/client.py\", line 662, in _auth\n",
      "    key_filename, pkey_class, passphrase\n",
      "  File \"/usr/local/lib/python3.6/dist-packages/paramiko/client.py\", line 571, in _key_from_filepath\n",
      "    key = klass.from_private_key_file(key_path, password)\n",
      "  File \"/usr/local/lib/python3.6/dist-packages/paramiko/pkey.py\", line 206, in from_private_key_file\n",
      "    key = cls(filename=filename, password=password)\n",
      "  File \"/usr/local/lib/python3.6/dist-packages/paramiko/ed25519key.py\", line 76, in __init__\n",
      "    data = self._read_private_key(\"OPENSSH\", f)\n",
      "  File \"/usr/local/lib/python3.6/dist-packages/paramiko/pkey.py\", line 289, in _read_private_key\n",
      "    raise SSHException(\"not a valid \" + tag + \" private key file\")\n",
      "paramiko.ssh_exception.SSHException: not a valid OPENSSH private key file\n",
      "\n",
      "Exception in thread Thread-22:\n",
      "Traceback (most recent call last):\n",
      "  File \"/usr/lib/python3.6/threading.py\", line 916, in _bootstrap_inner\n",
      "    self.run()\n",
      "  File \"/usr/lib/python3.6/threading.py\", line 864, in run\n",
      "    self._target(*self._args, **self._kwargs)\n",
      "  File \"/mnt/c/Users/japhy/projects/project-guppy/plugins/GoogleService/GoogleService.py\", line 219, in sshThread\n",
      "    key_filename=user_and_key[1])\n",
      "  File \"/usr/local/lib/python3.6/dist-packages/paramiko/client.py\", line 437, in connect\n",
      "    passphrase,\n",
      "  File \"/usr/local/lib/python3.6/dist-packages/paramiko/client.py\", line 749, in _auth\n",
      "    raise saved_exception\n",
      "  File \"/usr/local/lib/python3.6/dist-packages/paramiko/client.py\", line 662, in _auth\n",
      "    key_filename, pkey_class, passphrase\n",
      "  File \"/usr/local/lib/python3.6/dist-packages/paramiko/client.py\", line 571, in _key_from_filepath\n",
      "    key = klass.from_private_key_file(key_path, password)\n",
      "  File \"/usr/local/lib/python3.6/dist-packages/paramiko/pkey.py\", line 206, in from_private_key_file\n",
      "    key = cls(filename=filename, password=password)\n",
      "  File \"/usr/local/lib/python3.6/dist-packages/paramiko/ed25519key.py\", line 76, in __init__\n",
      "    data = self._read_private_key(\"OPENSSH\", f)\n",
      "  File \"/usr/local/lib/python3.6/dist-packages/paramiko/pkey.py\", line 289, in _read_private_key\n",
      "    raise SSHException(\"not a valid \" + tag + \" private key file\")\n",
      "paramiko.ssh_exception.SSHException: not a valid OPENSSH private key file\n",
      "\n",
      "Exception in thread Thread-21:\n",
      "Traceback (most recent call last):\n",
      "  File \"/usr/lib/python3.6/threading.py\", line 916, in _bootstrap_inner\n",
      "    self.run()\n",
      "  File \"/usr/lib/python3.6/threading.py\", line 864, in run\n",
      "    self._target(*self._args, **self._kwargs)\n",
      "  File \"/mnt/c/Users/japhy/projects/project-guppy/plugins/GoogleService/GoogleService.py\", line 219, in sshThread\n",
      "    key_filename=user_and_key[1])\n",
      "  File \"/usr/local/lib/python3.6/dist-packages/paramiko/client.py\", line 437, in connect\n",
      "    passphrase,\n",
      "  File \"/usr/local/lib/python3.6/dist-packages/paramiko/client.py\", line 749, in _auth\n",
      "    raise saved_exception\n",
      "  File \"/usr/local/lib/python3.6/dist-packages/paramiko/client.py\", line 662, in _auth\n",
      "    key_filename, pkey_class, passphrase\n",
      "  File \"/usr/local/lib/python3.6/dist-packages/paramiko/client.py\", line 571, in _key_from_filepath\n",
      "    key = klass.from_private_key_file(key_path, password)\n",
      "  File \"/usr/local/lib/python3.6/dist-packages/paramiko/pkey.py\", line 206, in from_private_key_file\n",
      "    key = cls(filename=filename, password=password)\n",
      "  File \"/usr/local/lib/python3.6/dist-packages/paramiko/ed25519key.py\", line 76, in __init__\n",
      "    data = self._read_private_key(\"OPENSSH\", f)\n",
      "  File \"/usr/local/lib/python3.6/dist-packages/paramiko/pkey.py\", line 289, in _read_private_key\n",
      "    raise SSHException(\"not a valid \" + tag + \" private key file\")\n",
      "paramiko.ssh_exception.SSHException: not a valid OPENSSH private key file\n",
      "\n",
      "Exception in thread Thread-19:\n",
      "Traceback (most recent call last):\n",
      "  File \"/usr/lib/python3.6/threading.py\", line 916, in _bootstrap_inner\n",
      "    self.run()\n",
      "  File \"/usr/lib/python3.6/threading.py\", line 864, in run\n",
      "    self._target(*self._args, **self._kwargs)\n",
      "  File \"/mnt/c/Users/japhy/projects/project-guppy/plugins/GoogleService/GoogleService.py\", line 219, in sshThread\n",
      "    key_filename=user_and_key[1])\n",
      "  File \"/usr/local/lib/python3.6/dist-packages/paramiko/client.py\", line 437, in connect\n",
      "    passphrase,\n",
      "  File \"/usr/local/lib/python3.6/dist-packages/paramiko/client.py\", line 749, in _auth\n",
      "    raise saved_exception\n",
      "  File \"/usr/local/lib/python3.6/dist-packages/paramiko/client.py\", line 662, in _auth\n",
      "    key_filename, pkey_class, passphrase\n",
      "  File \"/usr/local/lib/python3.6/dist-packages/paramiko/client.py\", line 571, in _key_from_filepath\n",
      "    key = klass.from_private_key_file(key_path, password)\n",
      "  File \"/usr/local/lib/python3.6/dist-packages/paramiko/pkey.py\", line 206, in from_private_key_file\n",
      "    key = cls(filename=filename, password=password)\n",
      "  File \"/usr/local/lib/python3.6/dist-packages/paramiko/ed25519key.py\", line 76, in __init__\n",
      "    data = self._read_private_key(\"OPENSSH\", f)\n",
      "  File \"/usr/local/lib/python3.6/dist-packages/paramiko/pkey.py\", line 289, in _read_private_key\n",
      "    raise SSHException(\"not a valid \" + tag + \" private key file\")\n",
      "paramiko.ssh_exception.SSHException: not a valid OPENSSH private key file\n",
      "\n",
      "Exception in thread Thread-20:\n",
      "Traceback (most recent call last):\n",
      "  File \"/usr/lib/python3.6/threading.py\", line 916, in _bootstrap_inner\n",
      "    self.run()\n",
      "  File \"/usr/lib/python3.6/threading.py\", line 864, in run\n",
      "    self._target(*self._args, **self._kwargs)\n",
      "  File \"/mnt/c/Users/japhy/projects/project-guppy/plugins/GoogleService/GoogleService.py\", line 219, in sshThread\n",
      "    key_filename=user_and_key[1])\n",
      "  File \"/usr/local/lib/python3.6/dist-packages/paramiko/client.py\", line 437, in connect\n",
      "    passphrase,\n",
      "  File \"/usr/local/lib/python3.6/dist-packages/paramiko/client.py\", line 749, in _auth\n",
      "    raise saved_exception\n",
      "  File \"/usr/local/lib/python3.6/dist-packages/paramiko/client.py\", line 662, in _auth\n",
      "    key_filename, pkey_class, passphrase\n",
      "  File \"/usr/local/lib/python3.6/dist-packages/paramiko/client.py\", line 571, in _key_from_filepath\n",
      "    key = klass.from_private_key_file(key_path, password)\n",
      "  File \"/usr/local/lib/python3.6/dist-packages/paramiko/pkey.py\", line 206, in from_private_key_file\n",
      "    key = cls(filename=filename, password=password)\n",
      "  File \"/usr/local/lib/python3.6/dist-packages/paramiko/ed25519key.py\", line 76, in __init__\n",
      "    data = self._read_private_key(\"OPENSSH\", f)\n",
      "  File \"/usr/local/lib/python3.6/dist-packages/paramiko/pkey.py\", line 289, in _read_private_key\n",
      "    raise SSHException(\"not a valid \" + tag + \" private key file\")\n",
      "paramiko.ssh_exception.SSHException: not a valid OPENSSH private key file\n",
      "\n"
     ]
    }
   ],
   "source": [
    "%guppi cloud google ssh v group1 pwd"
   ]
  },
  {
   "cell_type": "code",
   "execution_count": 7,
   "metadata": {
    "scrolled": false
   },
   "outputs": [
    {
     "data": {
      "application/vnd.jupyter.widget-view+json": {
       "model_id": "8abc58de2d4e4817a0cb90ec26afa6c8",
       "version_major": 2,
       "version_minor": 0
      },
      "text/plain": [
       "HBox(children=(Dropdown(description='Group: ', options=('Create Group', 'group1', 'Machine Learning'), value='…"
      ]
     },
     "metadata": {},
     "output_type": "display_data"
    },
    {
     "data": {
      "application/vnd.jupyter.widget-view+json": {
       "model_id": "8277e6faf01845d4b9de2d89266f873b",
       "version_major": 2,
       "version_minor": 0
      },
      "text/plain": [
       "HBox(children=(Dropdown(description='Size: ', index=1, options=('t2.nano', 't2.micro', 't2.small', 't2.small',…"
      ]
     },
     "metadata": {},
     "output_type": "display_data"
    },
    {
     "data": {
      "application/vnd.jupyter.widget-view+json": {
       "model_id": "a0bcb474773940f2ae0b23c517095354",
       "version_major": 2,
       "version_minor": 0
      },
      "text/plain": [
       "Button(description='Create Instance', style=ButtonStyle())"
      ]
     },
     "metadata": {},
     "output_type": "display_data"
    },
    {
     "name": "stdout",
     "output_type": "stream",
     "text": [
      "Instance Created.\n"
     ]
    }
   ],
   "source": [
    "%guppi cloud create"
   ]
  },
  {
   "cell_type": "code",
   "execution_count": null,
   "metadata": {},
   "outputs": [],
   "source": []
  }
 ],
 "metadata": {
  "kernelspec": {
   "display_name": "Python 3",
   "language": "python",
   "name": "python3"
  }
 },
 "nbformat": 4,
 "nbformat_minor": 2
}
