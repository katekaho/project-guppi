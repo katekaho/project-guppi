{
 "cells": [
  {
   "cell_type": "code",
   "execution_count": 1,
   "metadata": {
    "scrolled": true
   },
   "outputs": [
    {
     "name": "stdout",
     "output_type": "stream",
     "text": [
      "For useage: use %guppi help\n",
      "loading plugin: AmazonService\n",
      "loading plugin: GoogleService\n",
      "plugins loaded\n"
     ]
    }
   ],
   "source": [
    "%reload_ext guppimagic"
   ]
  },
  {
   "cell_type": "code",
   "execution_count": 2,
   "metadata": {},
   "outputs": [
    {
     "name": "stdout",
     "output_type": "stream",
     "text": [
      "set cloud interactions to GoogleService\n"
     ]
    }
   ],
   "source": [
    "%guppi switch GoogleService"
   ]
  },
  {
   "cell_type": "code",
   "execution_count": 3,
   "metadata": {},
   "outputs": [
    {
     "name": "stdout",
     "output_type": "stream",
     "text": [
      "set cloud interactions to AmazonService\n"
     ]
    }
   ],
   "source": [
    "%guppi switch AmazonService"
   ]
  },
  {
   "cell_type": "code",
   "execution_count": 5,
   "metadata": {
    "scrolled": false
   },
   "outputs": [
    {
     "data": {
      "application/vnd.jupyter.widget-view+json": {
       "model_id": "3bd952155b9b4ac3b2acd39ee509fcc0",
       "version_major": 2,
       "version_minor": 0
      },
      "text/plain": [
       "HTML(value='<h4>AWS SERVICE Instances</h4>')"
      ]
     },
     "metadata": {},
     "output_type": "display_data"
    },
    {
     "data": {
      "application/vnd.jupyter.widget-view+json": {
       "model_id": "87f6abcc92ce4bd3a6f37e82ee6243e5",
       "version_major": 2,
       "version_minor": 0
      },
      "text/plain": [
       "Tab(children=(VBox(children=(Accordion(children=(VBox(children=(HBox(children=(HTML(value='<b>Instance Type:</…"
      ]
     },
     "metadata": {},
     "output_type": "display_data"
    }
   ],
   "source": [
    "%guppi cloud view"
   ]
  },
  {
   "cell_type": "code",
   "execution_count": 8,
   "metadata": {
    "scrolled": true
   },
   "outputs": [
    {
     "name": "stdout",
     "output_type": "stream",
     "text": [
      "Running, please wait...\n",
      "=======================================================\n",
      "i-099d615d2b5a3cfdd\n",
      "=======================================================\n",
      "b'/home/ec2-user'\n",
      "Successfully ran 1 command\n",
      "\n",
      "=======================================================\n",
      "i-0952a7e4e49d3e918\n",
      "=======================================================\n",
      "b'/home/ec2-user'\n",
      "Successfully ran 1 command\n",
      "\n"
     ]
    },
    {
     "name": "stderr",
     "output_type": "stream",
     "text": [
      "Exception in thread Thread-11:\n",
      "Traceback (most recent call last):\n",
      "  File \"/usr/lib/python3.6/threading.py\", line 916, in _bootstrap_inner\n",
      "    self.run()\n",
      "  File \"/usr/lib/python3.6/threading.py\", line 864, in run\n",
      "    self._target(*self._args, **self._kwargs)\n",
      "  File \"/mnt/c/Users/japhy/projects/project-guppy/plugins/AmazonService/AmazonService.py\", line 193, in sshThread\n",
      "    key_filename=user_and_key[1])\n",
      "  File \"/usr/local/lib/python3.6/dist-packages/paramiko/client.py\", line 343, in connect\n",
      "    retry_on_signal(lambda: sock.connect(addr))\n",
      "  File \"/usr/local/lib/python3.6/dist-packages/paramiko/util.py\", line 280, in retry_on_signal\n",
      "    return function()\n",
      "  File \"/usr/local/lib/python3.6/dist-packages/paramiko/client.py\", line 343, in <lambda>\n",
      "    retry_on_signal(lambda: sock.connect(addr))\n",
      "BlockingIOError: [Errno 11] Resource temporarily unavailable\n",
      "\n",
      "Exception in thread Thread-12:\n",
      "Traceback (most recent call last):\n",
      "  File \"/usr/lib/python3.6/threading.py\", line 916, in _bootstrap_inner\n",
      "    self.run()\n",
      "  File \"/usr/lib/python3.6/threading.py\", line 864, in run\n",
      "    self._target(*self._args, **self._kwargs)\n",
      "  File \"/mnt/c/Users/japhy/projects/project-guppy/plugins/AmazonService/AmazonService.py\", line 193, in sshThread\n",
      "    key_filename=user_and_key[1])\n",
      "  File \"/usr/local/lib/python3.6/dist-packages/paramiko/client.py\", line 343, in connect\n",
      "    retry_on_signal(lambda: sock.connect(addr))\n",
      "  File \"/usr/local/lib/python3.6/dist-packages/paramiko/util.py\", line 280, in retry_on_signal\n",
      "    return function()\n",
      "  File \"/usr/local/lib/python3.6/dist-packages/paramiko/client.py\", line 343, in <lambda>\n",
      "    retry_on_signal(lambda: sock.connect(addr))\n",
      "BlockingIOError: [Errno 11] Resource temporarily unavailable\n",
      "\n",
      "Exception in thread Thread-13:\n",
      "Traceback (most recent call last):\n",
      "  File \"/usr/lib/python3.6/threading.py\", line 916, in _bootstrap_inner\n",
      "    self.run()\n",
      "  File \"/usr/lib/python3.6/threading.py\", line 864, in run\n",
      "    self._target(*self._args, **self._kwargs)\n",
      "  File \"/mnt/c/Users/japhy/projects/project-guppy/plugins/AmazonService/AmazonService.py\", line 193, in sshThread\n",
      "    key_filename=user_and_key[1])\n",
      "  File \"/usr/local/lib/python3.6/dist-packages/paramiko/client.py\", line 343, in connect\n",
      "    retry_on_signal(lambda: sock.connect(addr))\n",
      "  File \"/usr/local/lib/python3.6/dist-packages/paramiko/util.py\", line 280, in retry_on_signal\n",
      "    return function()\n",
      "  File \"/usr/local/lib/python3.6/dist-packages/paramiko/client.py\", line 343, in <lambda>\n",
      "    retry_on_signal(lambda: sock.connect(addr))\n",
      "BlockingIOError: [Errno 11] Resource temporarily unavailable\n",
      "\n"
     ]
    }
   ],
   "source": [
    "%guppi cloud ssh v group1 pwd"
   ]
  },
  {
   "cell_type": "code",
   "execution_count": 7,
   "metadata": {
    "scrolled": false
   },
   "outputs": [
    {
     "data": {
      "application/vnd.jupyter.widget-view+json": {
       "model_id": "8abc58de2d4e4817a0cb90ec26afa6c8",
       "version_major": 2,
       "version_minor": 0
      },
      "text/plain": [
       "HBox(children=(Dropdown(description='Group: ', options=('Create Group', 'group1', 'Machine Learning'), value='…"
      ]
     },
     "metadata": {},
     "output_type": "display_data"
    },
    {
     "data": {
      "application/vnd.jupyter.widget-view+json": {
       "model_id": "8277e6faf01845d4b9de2d89266f873b",
       "version_major": 2,
       "version_minor": 0
      },
      "text/plain": [
       "HBox(children=(Dropdown(description='Size: ', index=1, options=('t2.nano', 't2.micro', 't2.small', 't2.small',…"
      ]
     },
     "metadata": {},
     "output_type": "display_data"
    },
    {
     "data": {
      "application/vnd.jupyter.widget-view+json": {
       "model_id": "a0bcb474773940f2ae0b23c517095354",
       "version_major": 2,
       "version_minor": 0
      },
      "text/plain": [
       "Button(description='Create Instance', style=ButtonStyle())"
      ]
     },
     "metadata": {},
     "output_type": "display_data"
    },
    {
     "name": "stdout",
     "output_type": "stream",
     "text": [
      "Instance Created.\n"
     ]
    }
   ],
   "source": [
    "%guppi cloud create"
   ]
  },
  {
   "cell_type": "code",
   "execution_count": null,
   "metadata": {},
   "outputs": [],
   "source": []
  }
 ],
 "metadata": {
  "kernelspec": {
   "display_name": "Python 3",
   "language": "python",
   "name": "python3"
  },
  "language_info": {
   "codemirror_mode": {
    "name": "ipython",
    "version": 3
   },
   "file_extension": ".py",
   "mimetype": "text/x-python",
   "name": "python",
   "nbconvert_exporter": "python",
   "pygments_lexer": "ipython3",
   "version": "3.6.7"
  }
 },
 "nbformat": 4,
 "nbformat_minor": 2
}
