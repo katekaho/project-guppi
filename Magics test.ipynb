{
 "cells": [
  {
   "cell_type": "code",
   "execution_count": 13,
   "metadata": {},
   "outputs": [],
   "source": [
    "from IPython.core import magic_arguments\n",
    "from IPython.core.magic import line_magic, cell_magic, line_cell_magic, Magics, magics_class\n",
    "from IPython.display import HTML, display\n",
    "import boto3 \n",
    "import ipywidgets as widgets\n",
    "\n",
    "def on_button_clicked(b):\n",
    "    ec2 = boto3.resource('ec2')\n",
    "    ec2.create_instances(\n",
    "      #ImageId='ami-0cd3dfa4e37921605', #kates ami\n",
    "      ImageId='ami-0799ad445b5727125', #joeys ami\n",
    "      MinCount=1,\n",
    "      MaxCount=1,\n",
    "      InstanceType='t2.micro',\n",
    "      KeyName='key_pair_guppi',\n",
    "    )\n",
    "    print(\"Instance Created.\")\n",
    "    print(\"Rerun %db magic to display.\")\n",
    "\n",
    "@magics_class\n",
    "class TestMagics(Magics):\n",
    "    @line_magic\n",
    "    def db(self, line):\n",
    "        ec2client = boto3.client('ec2')\n",
    "        response = ec2client.describe_instances()\n",
    "        reservations = response.get('Reservations')\n",
    "        instances = []\n",
    "        for reservation in reservations:\n",
    "            reservationInstances = reservation.get('Instances')\n",
    "            for inst in reservationInstances:\n",
    "                instances.append(inst)\n",
    "  \n",
    "        instancesFormatted = []\n",
    "\n",
    "        for instance in instances:\n",
    "            tags = instance.get('Tags', [])\n",
    "            name = ''\n",
    "            for tag in tags:\n",
    "                tagKey = tag.get('Key', '')\n",
    "                if tagKey == 'Name':\n",
    "                    name = tag['Value']\n",
    "\n",
    "            placement = instance['Placement']\n",
    "            availabilityZone = placement['AvailabilityZone']\n",
    "\n",
    "            state = instance['State']\n",
    "            stateName = state.get('Name', '')\n",
    "\n",
    "            launchTime = instance.get('LaunchTime', '')\n",
    "\n",
    "            if len(name) > 20:\n",
    "                name = name[:20] + '...'\n",
    "\n",
    "            formatInst = {\n",
    "                'Name': name,\n",
    "                'Instance Id': instance.get('InstanceId', ''),\n",
    "                'Instance Type': instance.get('InstanceType', ''),\n",
    "                'Availability Zone': availabilityZone,\n",
    "                'State': stateName,\n",
    "                'Key Name': instance.get('KeyName', ''),\n",
    "                'Launch Time': launchTime,\n",
    "            }\n",
    "            instancesFormatted.append(formatInst)\n",
    "            \n",
    "        html = \"<table><tr>\"\n",
    "        html += \"<th>\"\n",
    "        html += 'Name'\n",
    "        html += \"</th>\"\n",
    "        html += \"<th>\"\n",
    "        html += 'Instance Id'\n",
    "        html += \"</th>\"\n",
    "        html += \"<th>\"\n",
    "        html += 'Instance Type'\n",
    "        html += \"</th>\"\n",
    "        html += \"<th>\"\n",
    "        html += 'Availability Zone'\n",
    "        html += \"</th>\"\n",
    "        html += \"<th>\"\n",
    "        html += 'State'\n",
    "        html += \"</th>\"\n",
    "        html += \"<th>\"\n",
    "        html += 'Key Name'\n",
    "        html += \"</th>\"\n",
    "        html += \"<th>\"\n",
    "        html += 'Launch Time'\n",
    "        html += \"</th>\"\n",
    "                \n",
    "        html += \"</tr>\"\n",
    "        for row in instancesFormatted:\n",
    "            html += \"<tr>\"\n",
    "            html += \"<td>\"\n",
    "            html += row['Name']\n",
    "            html += \"</td>\"\n",
    "            html += \"<td>\"\n",
    "            html += row['Instance Id']\n",
    "            html += \"</td>\"\n",
    "            html += \"<td>\"\n",
    "            html += row['Instance Type']\n",
    "            html += \"</td>\"\n",
    "            html += \"<td>\"\n",
    "            html += row['Availability Zone']\n",
    "            html += \"</td>\"\n",
    "            html += \"<td>\"\n",
    "            html += row['State']\n",
    "            html += \"</td>\"\n",
    "            html += \"<td>\"\n",
    "            html += row['Key Name']\n",
    "            html += \"</td>\"\n",
    "            html += \"<td>\"\n",
    "            html += str(row['Launch Time'])\n",
    "            html += \"</td>\"\n",
    "            html += \"</tr>\"\n",
    "        \n",
    "        html += \"</table>\"\n",
    "        \n",
    "        display(HTML(html))\n",
    "        button = widgets.Button(description=\"Create Instance\")\n",
    "        display(button)\n",
    "        button.on_click(on_button_clicked)\n",
    " \n",
    "ip = get_ipython()\n",
    "ip.register_magics(TestMagics)"
   ]
  },
  {
   "cell_type": "code",
   "execution_count": 16,
   "metadata": {
    "scrolled": true
   },
   "outputs": [
    {
     "data": {
      "text/html": [
       "<table><tr><th>Name</th><th>Instance Id</th><th>Instance Type</th><th>Availability Zone</th><th>State</th><th>Key Name</th><th>Launch Time</th></tr><tr><td></td><td>i-0bebb87b8f6b64af1</td><td>t2.micro</td><td>us-west-1a</td><td>terminated</td><td>key_pair_guppi</td><td>2019-02-15 04:04:28+00:00</td></tr><tr><td></td><td>i-03a6a0c5fff4cf08a</td><td>t2.micro</td><td>us-west-1a</td><td>terminated</td><td>key_pair_guppi</td><td>2019-02-15 04:05:52+00:00</td></tr><tr><td></td><td>i-0d920484ee5cba0ef</td><td>t2.micro</td><td>us-west-1a</td><td>shutting-down</td><td>key_pair_guppi</td><td>2019-02-15 04:08:39+00:00</td></tr></table>"
      ],
      "text/plain": [
       "<IPython.core.display.HTML object>"
      ]
     },
     "metadata": {},
     "output_type": "display_data"
    },
    {
     "data": {
      "application/vnd.jupyter.widget-view+json": {
       "model_id": "3192da053ffb4af18ec0ac30533cf0e3",
       "version_major": 2,
       "version_minor": 0
      },
      "text/plain": [
       "Button(description='Create Instance', style=ButtonStyle())"
      ]
     },
     "metadata": {},
     "output_type": "display_data"
    }
   ],
   "source": [
    "%db"
   ]
  },
  {
   "cell_type": "code",
   "execution_count": null,
   "metadata": {},
   "outputs": [],
   "source": []
  }
 ],
 "metadata": {
  "kernelspec": {
   "display_name": "Python 3",
   "language": "python",
   "name": "python3"
  },
  "language_info": {
   "codemirror_mode": {
    "name": "ipython",
    "version": 3
   },
   "file_extension": ".py",
   "mimetype": "text/x-python",
   "name": "python",
   "nbconvert_exporter": "python",
   "pygments_lexer": "ipython3",
   "version": "3.6.7"
  }
 },
 "nbformat": 4,
 "nbformat_minor": 2
}
