{
 "cells": [
  {
   "cell_type": "code",
   "execution_count": 4,
   "metadata": {},
   "outputs": [
    {
     "data": {
      "application/vnd.jupyter.widget-view+json": {
       "model_id": "0871f3e26ffc44f6864abd344c2cd2a1",
       "version_major": 2,
       "version_minor": 0
      },
      "text/plain": [
       "Button(description='generate key pair', style=ButtonStyle())"
      ]
     },
     "metadata": {},
     "output_type": "display_data"
    }
   ],
   "source": [
    "import boto3\n",
    "from ipywidgets import widgets\n",
    "button = widgets.Button(description = \"generate key pair\")\n",
    "display(button)\n",
    "def on_button_clicked(b):\n",
    "    print(\"clicked\")\n",
    "    ec2 = boto3.resource('ec2')\n",
    "\n",
    "    # create a file to store the key locally\n",
    "    outfile = open('ec2-keypair1.pem','w')\n",
    "\n",
    "    # call the boto ec2 function to create a key pair\n",
    "    key_pair = ec2.create_key_pair(KeyName='ec2-keypair1')\n",
    "\n",
    "    # capture the key and store it in a file\n",
    "    KeyPairOut = str(key_pair.key_material)\n",
    "    print(KeyPairOut)\n",
    "    outfile.write(KeyPairOut)\n",
    "button.on_click(on_button_clicked)"
   ]
  },
  {
   "cell_type": "code",
   "execution_count": 6,
   "metadata": {},
   "outputs": [
    {
     "data": {
      "application/vnd.jupyter.widget-view+json": {
       "model_id": "6a75f3b147344601bcf1ec1b89a3e303",
       "version_major": 2,
       "version_minor": 0
      },
      "text/plain": [
       "Button(description='create instance', style=ButtonStyle())"
      ]
     },
     "metadata": {},
     "output_type": "display_data"
    },
    {
     "name": "stdout",
     "output_type": "stream",
     "text": [
      "clicked\n"
     ]
    }
   ],
   "source": [
    "#%%\n",
    "import boto3\n",
    "from ipywidgets import widgets\n",
    "ec2 = boto3.resource('ec2')\n",
    "button = widgets.Button(description = \"create instance\")\n",
    "display(button)\n",
    "def on_button_clicked(b):\n",
    "    print(\"clicked\")\n",
    "    \n",
    "instances = ec2.create_instances(\n",
    "     ImageId='ami-0799ad445b5727125',\n",
    "     MinCount=1,\n",
    "     MaxCount=2,\n",
    "     InstanceType='t2.micro',\n",
    "     KeyName='ec2-keypair2'\n",
    " )\n",
    "\n",
    "button.on_click(on_button_clicked)"
   ]
  },
  {
   "cell_type": "code",
   "execution_count": 7,
   "metadata": {},
   "outputs": [
    {
     "data": {
      "application/vnd.jupyter.widget-view+json": {
       "model_id": "d5390d3f642e43d6b2476685b27de55b",
       "version_major": 2,
       "version_minor": 0
      },
      "text/plain": [
       "Button(description='create instance', style=ButtonStyle())"
      ]
     },
     "metadata": {},
     "output_type": "display_data"
    },
    {
     "name": "stdout",
     "output_type": "stream",
     "text": [
      "clicked\n",
      "{'AmiLaunchIndex': 0, 'ImageId': 'ami-0799ad445b5727125', 'InstanceId': 'i-04c0caab20848eb8e', 'InstanceType': 't2.micro', 'KeyName': 'ec2-keypair2', 'LaunchTime': datetime.datetime(2019, 2, 3, 22, 33, 37, tzinfo=tzutc()), 'Monitoring': {'State': 'disabled'}, 'Placement': {'AvailabilityZone': 'us-west-1a', 'GroupName': '', 'Tenancy': 'default'}, 'PrivateDnsName': '', 'ProductCodes': [], 'PublicDnsName': '', 'State': {'Code': 48, 'Name': 'terminated'}, 'StateTransitionReason': 'User initiated (2019-02-03 22:42:56 GMT)', 'Architecture': 'x86_64', 'BlockDeviceMappings': [], 'ClientToken': '', 'EbsOptimized': False, 'EnaSupport': True, 'Hypervisor': 'xen', 'NetworkInterfaces': [], 'RootDeviceName': '/dev/xvda', 'RootDeviceType': 'ebs', 'SecurityGroups': [], 'StateReason': {'Code': 'Client.UserInitiatedShutdown', 'Message': 'Client.UserInitiatedShutdown: User initiated shutdown'}, 'VirtualizationType': 'hvm', 'CpuOptions': {'CoreCount': 1, 'ThreadsPerCore': 1}, 'HibernationOptions': {'Configured': False}}\n",
      "i-04c0caab20848eb8e\n",
      "\n",
      "\n",
      "{'AmiLaunchIndex': 1, 'ImageId': 'ami-0799ad445b5727125', 'InstanceId': 'i-0dd2434a12f442db6', 'InstanceType': 't2.micro', 'KeyName': 'ec2-keypair2', 'LaunchTime': datetime.datetime(2019, 2, 3, 22, 33, 37, tzinfo=tzutc()), 'Monitoring': {'State': 'disabled'}, 'Placement': {'AvailabilityZone': 'us-west-1a', 'GroupName': '', 'Tenancy': 'default'}, 'PrivateDnsName': '', 'ProductCodes': [], 'PublicDnsName': '', 'State': {'Code': 48, 'Name': 'terminated'}, 'StateTransitionReason': 'User initiated (2019-02-03 22:42:56 GMT)', 'Architecture': 'x86_64', 'BlockDeviceMappings': [], 'ClientToken': '', 'EbsOptimized': False, 'EnaSupport': True, 'Hypervisor': 'xen', 'NetworkInterfaces': [], 'RootDeviceName': '/dev/xvda', 'RootDeviceType': 'ebs', 'SecurityGroups': [], 'StateReason': {'Code': 'Client.UserInitiatedShutdown', 'Message': 'Client.UserInitiatedShutdown: User initiated shutdown'}, 'VirtualizationType': 'hvm', 'CpuOptions': {'CoreCount': 1, 'ThreadsPerCore': 1}, 'HibernationOptions': {'Configured': False}}\n",
      "i-0dd2434a12f442db6\n",
      "\n",
      "\n",
      "{'AmiLaunchIndex': 1, 'ImageId': 'ami-0799ad445b5727125', 'InstanceId': 'i-0c5cf768f36f0a0cd', 'InstanceType': 't2.micro', 'KeyName': 'ec2-keypair', 'LaunchTime': datetime.datetime(2019, 2, 3, 22, 45, 51, tzinfo=tzutc()), 'Monitoring': {'State': 'disabled'}, 'Placement': {'AvailabilityZone': 'us-west-1a', 'GroupName': '', 'Tenancy': 'default'}, 'PrivateDnsName': '', 'ProductCodes': [], 'PublicDnsName': '', 'State': {'Code': 48, 'Name': 'terminated'}, 'StateTransitionReason': 'User initiated (2019-02-03 22:57:00 GMT)', 'Architecture': 'x86_64', 'BlockDeviceMappings': [], 'ClientToken': '', 'EbsOptimized': False, 'EnaSupport': True, 'Hypervisor': 'xen', 'NetworkInterfaces': [], 'RootDeviceName': '/dev/xvda', 'RootDeviceType': 'ebs', 'SecurityGroups': [], 'StateReason': {'Code': 'Client.UserInitiatedShutdown', 'Message': 'Client.UserInitiatedShutdown: User initiated shutdown'}, 'VirtualizationType': 'hvm', 'CpuOptions': {'CoreCount': 1, 'ThreadsPerCore': 1}, 'HibernationOptions': {'Configured': False}}\n",
      "i-0c5cf768f36f0a0cd\n",
      "\n",
      "\n",
      "{'AmiLaunchIndex': 0, 'ImageId': 'ami-0799ad445b5727125', 'InstanceId': 'i-0063974c3c994a84b', 'InstanceType': 't2.micro', 'KeyName': 'ec2-keypair', 'LaunchTime': datetime.datetime(2019, 2, 3, 22, 45, 51, tzinfo=tzutc()), 'Monitoring': {'State': 'disabled'}, 'Placement': {'AvailabilityZone': 'us-west-1a', 'GroupName': '', 'Tenancy': 'default'}, 'PrivateDnsName': '', 'ProductCodes': [], 'PublicDnsName': '', 'State': {'Code': 48, 'Name': 'terminated'}, 'StateTransitionReason': 'User initiated (2019-02-03 22:57:00 GMT)', 'Architecture': 'x86_64', 'BlockDeviceMappings': [], 'ClientToken': '', 'EbsOptimized': False, 'EnaSupport': True, 'Hypervisor': 'xen', 'NetworkInterfaces': [], 'RootDeviceName': '/dev/xvda', 'RootDeviceType': 'ebs', 'SecurityGroups': [], 'StateReason': {'Code': 'Client.UserInitiatedShutdown', 'Message': 'Client.UserInitiatedShutdown: User initiated shutdown'}, 'VirtualizationType': 'hvm', 'CpuOptions': {'CoreCount': 1, 'ThreadsPerCore': 1}, 'HibernationOptions': {'Configured': False}}\n",
      "i-0063974c3c994a84b\n",
      "\n",
      "\n",
      "{'AmiLaunchIndex': 1, 'ImageId': 'ami-0799ad445b5727125', 'InstanceId': 'i-0038acd4f3ac1dd40', 'InstanceType': 't2.micro', 'KeyName': 'ec2-keypair2', 'LaunchTime': datetime.datetime(2019, 2, 3, 22, 46, 55, tzinfo=tzutc()), 'Monitoring': {'State': 'disabled'}, 'Placement': {'AvailabilityZone': 'us-west-1a', 'GroupName': '', 'Tenancy': 'default'}, 'PrivateDnsName': '', 'ProductCodes': [], 'PublicDnsName': '', 'State': {'Code': 48, 'Name': 'terminated'}, 'StateTransitionReason': 'User initiated (2019-02-03 22:57:00 GMT)', 'Architecture': 'x86_64', 'BlockDeviceMappings': [], 'ClientToken': '', 'EbsOptimized': False, 'EnaSupport': True, 'Hypervisor': 'xen', 'NetworkInterfaces': [], 'RootDeviceName': '/dev/xvda', 'RootDeviceType': 'ebs', 'SecurityGroups': [], 'StateReason': {'Code': 'Client.UserInitiatedShutdown', 'Message': 'Client.UserInitiatedShutdown: User initiated shutdown'}, 'VirtualizationType': 'hvm', 'CpuOptions': {'CoreCount': 1, 'ThreadsPerCore': 1}, 'HibernationOptions': {'Configured': False}}\n",
      "i-0038acd4f3ac1dd40\n",
      "\n",
      "\n",
      "{'AmiLaunchIndex': 0, 'ImageId': 'ami-0799ad445b5727125', 'InstanceId': 'i-025dde3b313cfce6e', 'InstanceType': 't2.micro', 'KeyName': 'ec2-keypair2', 'LaunchTime': datetime.datetime(2019, 2, 3, 22, 46, 55, tzinfo=tzutc()), 'Monitoring': {'State': 'disabled'}, 'Placement': {'AvailabilityZone': 'us-west-1a', 'GroupName': '', 'Tenancy': 'default'}, 'PrivateDnsName': '', 'ProductCodes': [], 'PublicDnsName': '', 'State': {'Code': 48, 'Name': 'terminated'}, 'StateTransitionReason': 'User initiated (2019-02-03 22:57:00 GMT)', 'Architecture': 'x86_64', 'BlockDeviceMappings': [], 'ClientToken': '', 'EbsOptimized': False, 'EnaSupport': True, 'Hypervisor': 'xen', 'NetworkInterfaces': [], 'RootDeviceName': '/dev/xvda', 'RootDeviceType': 'ebs', 'SecurityGroups': [], 'StateReason': {'Code': 'Client.UserInitiatedShutdown', 'Message': 'Client.UserInitiatedShutdown: User initiated shutdown'}, 'VirtualizationType': 'hvm', 'CpuOptions': {'CoreCount': 1, 'ThreadsPerCore': 1}, 'HibernationOptions': {'Configured': False}}\n",
      "i-025dde3b313cfce6e\n",
      "\n",
      "\n",
      "{'AmiLaunchIndex': 0, 'ImageId': 'ami-0799ad445b5727125', 'InstanceId': 'i-07b504ab583343ca3', 'InstanceType': 't2.micro', 'KeyName': 'ec2-keypair', 'LaunchTime': datetime.datetime(2019, 2, 3, 22, 45, 33, tzinfo=tzutc()), 'Monitoring': {'State': 'disabled'}, 'Placement': {'AvailabilityZone': 'us-west-1a', 'GroupName': '', 'Tenancy': 'default'}, 'PrivateDnsName': '', 'ProductCodes': [], 'PublicDnsName': '', 'State': {'Code': 48, 'Name': 'terminated'}, 'StateTransitionReason': 'User initiated (2019-02-03 22:57:00 GMT)', 'Architecture': 'x86_64', 'BlockDeviceMappings': [], 'ClientToken': '', 'EbsOptimized': False, 'EnaSupport': True, 'Hypervisor': 'xen', 'NetworkInterfaces': [], 'RootDeviceName': '/dev/xvda', 'RootDeviceType': 'ebs', 'SecurityGroups': [], 'StateReason': {'Code': 'Client.UserInitiatedShutdown', 'Message': 'Client.UserInitiatedShutdown: User initiated shutdown'}, 'VirtualizationType': 'hvm', 'CpuOptions': {'CoreCount': 1, 'ThreadsPerCore': 1}, 'HibernationOptions': {'Configured': False}}\n",
      "i-07b504ab583343ca3\n",
      "\n",
      "\n",
      "{'AmiLaunchIndex': 1, 'ImageId': 'ami-0799ad445b5727125', 'InstanceId': 'i-035bc62bdb71c3b90', 'InstanceType': 't2.micro', 'KeyName': 'ec2-keypair', 'LaunchTime': datetime.datetime(2019, 2, 3, 22, 45, 33, tzinfo=tzutc()), 'Monitoring': {'State': 'disabled'}, 'Placement': {'AvailabilityZone': 'us-west-1a', 'GroupName': '', 'Tenancy': 'default'}, 'PrivateDnsName': '', 'ProductCodes': [], 'PublicDnsName': '', 'State': {'Code': 48, 'Name': 'terminated'}, 'StateTransitionReason': 'User initiated (2019-02-03 22:57:00 GMT)', 'Architecture': 'x86_64', 'BlockDeviceMappings': [], 'ClientToken': '', 'EbsOptimized': False, 'EnaSupport': True, 'Hypervisor': 'xen', 'NetworkInterfaces': [], 'RootDeviceName': '/dev/xvda', 'RootDeviceType': 'ebs', 'SecurityGroups': [], 'StateReason': {'Code': 'Client.UserInitiatedShutdown', 'Message': 'Client.UserInitiatedShutdown: User initiated shutdown'}, 'VirtualizationType': 'hvm', 'CpuOptions': {'CoreCount': 1, 'ThreadsPerCore': 1}, 'HibernationOptions': {'Configured': False}}\n",
      "i-035bc62bdb71c3b90\n",
      "\n",
      "\n",
      "{'AmiLaunchIndex': 0, 'ImageId': 'ami-0799ad445b5727125', 'InstanceId': 'i-07491355d4330bbad', 'InstanceType': 't2.micro', 'KeyName': 'ec2-keypair', 'LaunchTime': datetime.datetime(2019, 2, 3, 21, 43, 47, tzinfo=tzutc()), 'Monitoring': {'State': 'disabled'}, 'Placement': {'AvailabilityZone': 'us-west-1a', 'GroupName': '', 'Tenancy': 'default'}, 'PrivateDnsName': '', 'ProductCodes': [], 'PublicDnsName': '', 'State': {'Code': 48, 'Name': 'terminated'}, 'StateTransitionReason': 'User initiated (2019-02-03 22:42:56 GMT)', 'Architecture': 'x86_64', 'BlockDeviceMappings': [], 'ClientToken': '', 'EbsOptimized': False, 'EnaSupport': True, 'Hypervisor': 'xen', 'NetworkInterfaces': [], 'RootDeviceName': '/dev/xvda', 'RootDeviceType': 'ebs', 'SecurityGroups': [], 'StateReason': {'Code': 'Client.UserInitiatedShutdown', 'Message': 'Client.UserInitiatedShutdown: User initiated shutdown'}, 'VirtualizationType': 'hvm', 'CpuOptions': {'CoreCount': 1, 'ThreadsPerCore': 1}, 'HibernationOptions': {'Configured': False}}\n",
      "i-07491355d4330bbad\n",
      "\n",
      "\n",
      "{'AmiLaunchIndex': 1, 'ImageId': 'ami-0799ad445b5727125', 'InstanceId': 'i-015cac60dbdf6ac93', 'InstanceType': 't2.micro', 'KeyName': 'ec2-keypair', 'LaunchTime': datetime.datetime(2019, 2, 3, 21, 43, 47, tzinfo=tzutc()), 'Monitoring': {'State': 'disabled'}, 'Placement': {'AvailabilityZone': 'us-west-1a', 'GroupName': '', 'Tenancy': 'default'}, 'PrivateDnsName': '', 'ProductCodes': [], 'PublicDnsName': '', 'State': {'Code': 48, 'Name': 'terminated'}, 'StateTransitionReason': 'User initiated (2019-02-03 22:42:56 GMT)', 'Architecture': 'x86_64', 'BlockDeviceMappings': [], 'ClientToken': '', 'EbsOptimized': False, 'EnaSupport': True, 'Hypervisor': 'xen', 'NetworkInterfaces': [], 'RootDeviceName': '/dev/xvda', 'RootDeviceType': 'ebs', 'SecurityGroups': [], 'StateReason': {'Code': 'Client.UserInitiatedShutdown', 'Message': 'Client.UserInitiatedShutdown: User initiated shutdown'}, 'VirtualizationType': 'hvm', 'CpuOptions': {'CoreCount': 1, 'ThreadsPerCore': 1}, 'HibernationOptions': {'Configured': False}}\n",
      "i-015cac60dbdf6ac93\n",
      "\n",
      "\n",
      "{'AmiLaunchIndex': 1, 'ImageId': 'ami-0799ad445b5727125', 'InstanceId': 'i-080f09edaec6ec52f', 'InstanceType': 't2.micro', 'KeyName': 'ec2-keypair', 'LaunchTime': datetime.datetime(2019, 2, 3, 22, 46, 18, tzinfo=tzutc()), 'Monitoring': {'State': 'disabled'}, 'Placement': {'AvailabilityZone': 'us-west-1a', 'GroupName': '', 'Tenancy': 'default'}, 'PrivateDnsName': '', 'ProductCodes': [], 'PublicDnsName': '', 'State': {'Code': 48, 'Name': 'terminated'}, 'StateTransitionReason': 'User initiated (2019-02-03 22:57:00 GMT)', 'Architecture': 'x86_64', 'BlockDeviceMappings': [], 'ClientToken': '', 'EbsOptimized': False, 'EnaSupport': True, 'Hypervisor': 'xen', 'NetworkInterfaces': [], 'RootDeviceName': '/dev/xvda', 'RootDeviceType': 'ebs', 'SecurityGroups': [], 'StateReason': {'Code': 'Client.UserInitiatedShutdown', 'Message': 'Client.UserInitiatedShutdown: User initiated shutdown'}, 'VirtualizationType': 'hvm', 'CpuOptions': {'CoreCount': 1, 'ThreadsPerCore': 1}, 'HibernationOptions': {'Configured': False}}\n",
      "i-080f09edaec6ec52f\n",
      "\n",
      "\n",
      "{'AmiLaunchIndex': 0, 'ImageId': 'ami-0799ad445b5727125', 'InstanceId': 'i-057ccc45ba08994db', 'InstanceType': 't2.micro', 'KeyName': 'ec2-keypair', 'LaunchTime': datetime.datetime(2019, 2, 3, 22, 46, 18, tzinfo=tzutc()), 'Monitoring': {'State': 'disabled'}, 'Placement': {'AvailabilityZone': 'us-west-1a', 'GroupName': '', 'Tenancy': 'default'}, 'PrivateDnsName': '', 'ProductCodes': [], 'PublicDnsName': '', 'State': {'Code': 48, 'Name': 'terminated'}, 'StateTransitionReason': 'User initiated (2019-02-03 22:57:00 GMT)', 'Architecture': 'x86_64', 'BlockDeviceMappings': [], 'ClientToken': '', 'EbsOptimized': False, 'EnaSupport': True, 'Hypervisor': 'xen', 'NetworkInterfaces': [], 'RootDeviceName': '/dev/xvda', 'RootDeviceType': 'ebs', 'SecurityGroups': [], 'StateReason': {'Code': 'Client.UserInitiatedShutdown', 'Message': 'Client.UserInitiatedShutdown: User initiated shutdown'}, 'VirtualizationType': 'hvm', 'CpuOptions': {'CoreCount': 1, 'ThreadsPerCore': 1}, 'HibernationOptions': {'Configured': False}}\n",
      "i-057ccc45ba08994db\n",
      "\n",
      "\n",
      "{'AmiLaunchIndex': 1, 'ImageId': 'ami-0799ad445b5727125', 'InstanceId': 'i-0894ad6d511625662', 'InstanceType': 't2.micro', 'KeyName': 'ec2-keypair2', 'LaunchTime': datetime.datetime(2019, 2, 3, 22, 33, tzinfo=tzutc()), 'Monitoring': {'State': 'disabled'}, 'Placement': {'AvailabilityZone': 'us-west-1a', 'GroupName': '', 'Tenancy': 'default'}, 'PrivateDnsName': '', 'ProductCodes': [], 'PublicDnsName': '', 'State': {'Code': 48, 'Name': 'terminated'}, 'StateTransitionReason': 'User initiated (2019-02-03 22:42:56 GMT)', 'Architecture': 'x86_64', 'BlockDeviceMappings': [], 'ClientToken': '', 'EbsOptimized': False, 'EnaSupport': True, 'Hypervisor': 'xen', 'NetworkInterfaces': [], 'RootDeviceName': '/dev/xvda', 'RootDeviceType': 'ebs', 'SecurityGroups': [], 'StateReason': {'Code': 'Client.UserInitiatedShutdown', 'Message': 'Client.UserInitiatedShutdown: User initiated shutdown'}, 'VirtualizationType': 'hvm', 'CpuOptions': {'CoreCount': 1, 'ThreadsPerCore': 1}, 'HibernationOptions': {'Configured': False}}\n",
      "i-0894ad6d511625662\n",
      "\n",
      "\n",
      "{'AmiLaunchIndex': 0, 'ImageId': 'ami-0799ad445b5727125', 'InstanceId': 'i-0f841442af2b4ab26', 'InstanceType': 't2.micro', 'KeyName': 'ec2-keypair2', 'LaunchTime': datetime.datetime(2019, 2, 3, 22, 33, tzinfo=tzutc()), 'Monitoring': {'State': 'disabled'}, 'Placement': {'AvailabilityZone': 'us-west-1a', 'GroupName': '', 'Tenancy': 'default'}, 'PrivateDnsName': '', 'ProductCodes': [], 'PublicDnsName': '', 'State': {'Code': 48, 'Name': 'terminated'}, 'StateTransitionReason': 'User initiated (2019-02-03 22:42:56 GMT)', 'Architecture': 'x86_64', 'BlockDeviceMappings': [], 'ClientToken': '', 'EbsOptimized': False, 'EnaSupport': True, 'Hypervisor': 'xen', 'NetworkInterfaces': [], 'RootDeviceName': '/dev/xvda', 'RootDeviceType': 'ebs', 'SecurityGroups': [], 'StateReason': {'Code': 'Client.UserInitiatedShutdown', 'Message': 'Client.UserInitiatedShutdown: User initiated shutdown'}, 'VirtualizationType': 'hvm', 'CpuOptions': {'CoreCount': 1, 'ThreadsPerCore': 1}, 'HibernationOptions': {'Configured': False}}\n",
      "i-0f841442af2b4ab26\n",
      "\n",
      "\n",
      "{'AmiLaunchIndex': 1, 'ImageId': 'ami-0799ad445b5727125', 'InstanceId': 'i-0a2c6fe46611af2d8', 'InstanceType': 't2.micro', 'KeyName': 'ec2-keypair2', 'LaunchTime': datetime.datetime(2019, 2, 3, 22, 47, 20, tzinfo=tzutc()), 'Monitoring': {'State': 'disabled'}, 'Placement': {'AvailabilityZone': 'us-west-1a', 'GroupName': '', 'Tenancy': 'default'}, 'PrivateDnsName': '', 'ProductCodes': [], 'PublicDnsName': '', 'State': {'Code': 48, 'Name': 'terminated'}, 'StateTransitionReason': 'User initiated (2019-02-03 22:57:00 GMT)', 'Architecture': 'x86_64', 'BlockDeviceMappings': [], 'ClientToken': '', 'EbsOptimized': False, 'EnaSupport': True, 'Hypervisor': 'xen', 'NetworkInterfaces': [], 'RootDeviceName': '/dev/xvda', 'RootDeviceType': 'ebs', 'SecurityGroups': [], 'StateReason': {'Code': 'Client.UserInitiatedShutdown', 'Message': 'Client.UserInitiatedShutdown: User initiated shutdown'}, 'VirtualizationType': 'hvm', 'CpuOptions': {'CoreCount': 1, 'ThreadsPerCore': 1}, 'HibernationOptions': {'Configured': False}}\n",
      "i-0a2c6fe46611af2d8\n",
      "\n",
      "\n",
      "{'AmiLaunchIndex': 0, 'ImageId': 'ami-0799ad445b5727125', 'InstanceId': 'i-0c0ee0353326c85d1', 'InstanceType': 't2.micro', 'KeyName': 'ec2-keypair2', 'LaunchTime': datetime.datetime(2019, 2, 3, 22, 47, 20, tzinfo=tzutc()), 'Monitoring': {'State': 'disabled'}, 'Placement': {'AvailabilityZone': 'us-west-1a', 'GroupName': '', 'Tenancy': 'default'}, 'PrivateDnsName': '', 'ProductCodes': [], 'PublicDnsName': '', 'State': {'Code': 48, 'Name': 'terminated'}, 'StateTransitionReason': 'User initiated (2019-02-03 22:57:00 GMT)', 'Architecture': 'x86_64', 'BlockDeviceMappings': [], 'ClientToken': '', 'EbsOptimized': False, 'EnaSupport': True, 'Hypervisor': 'xen', 'NetworkInterfaces': [], 'RootDeviceName': '/dev/xvda', 'RootDeviceType': 'ebs', 'SecurityGroups': [], 'StateReason': {'Code': 'Client.UserInitiatedShutdown', 'Message': 'Client.UserInitiatedShutdown: User initiated shutdown'}, 'VirtualizationType': 'hvm', 'CpuOptions': {'CoreCount': 1, 'ThreadsPerCore': 1}, 'HibernationOptions': {'Configured': False}}\n",
      "i-0c0ee0353326c85d1\n",
      "\n",
      "\n",
      "{'AmiLaunchIndex': 1, 'ImageId': 'ami-0799ad445b5727125', 'InstanceId': 'i-055df1fd23bcc2b93', 'InstanceType': 't2.micro', 'KeyName': 'ec2-keypair', 'LaunchTime': datetime.datetime(2019, 2, 3, 22, 16, 27, tzinfo=tzutc()), 'Monitoring': {'State': 'disabled'}, 'Placement': {'AvailabilityZone': 'us-west-1a', 'GroupName': '', 'Tenancy': 'default'}, 'PrivateDnsName': '', 'ProductCodes': [], 'PublicDnsName': '', 'State': {'Code': 48, 'Name': 'terminated'}, 'StateTransitionReason': 'User initiated (2019-02-03 22:42:56 GMT)', 'Architecture': 'x86_64', 'BlockDeviceMappings': [], 'ClientToken': '', 'EbsOptimized': False, 'EnaSupport': True, 'Hypervisor': 'xen', 'NetworkInterfaces': [], 'RootDeviceName': '/dev/xvda', 'RootDeviceType': 'ebs', 'SecurityGroups': [], 'StateReason': {'Code': 'Client.UserInitiatedShutdown', 'Message': 'Client.UserInitiatedShutdown: User initiated shutdown'}, 'VirtualizationType': 'hvm', 'CpuOptions': {'CoreCount': 1, 'ThreadsPerCore': 1}, 'HibernationOptions': {'Configured': False}}\n",
      "i-055df1fd23bcc2b93\n",
      "\n",
      "\n",
      "{'AmiLaunchIndex': 0, 'ImageId': 'ami-0799ad445b5727125', 'InstanceId': 'i-0f6b1c5cdd06e31ff', 'InstanceType': 't2.micro', 'KeyName': 'ec2-keypair', 'LaunchTime': datetime.datetime(2019, 2, 3, 22, 16, 27, tzinfo=tzutc()), 'Monitoring': {'State': 'disabled'}, 'Placement': {'AvailabilityZone': 'us-west-1a', 'GroupName': '', 'Tenancy': 'default'}, 'PrivateDnsName': '', 'ProductCodes': [], 'PublicDnsName': '', 'State': {'Code': 48, 'Name': 'terminated'}, 'StateTransitionReason': 'User initiated (2019-02-03 22:42:56 GMT)', 'Architecture': 'x86_64', 'BlockDeviceMappings': [], 'ClientToken': '', 'EbsOptimized': False, 'EnaSupport': True, 'Hypervisor': 'xen', 'NetworkInterfaces': [], 'RootDeviceName': '/dev/xvda', 'RootDeviceType': 'ebs', 'SecurityGroups': [], 'StateReason': {'Code': 'Client.UserInitiatedShutdown', 'Message': 'Client.UserInitiatedShutdown: User initiated shutdown'}, 'VirtualizationType': 'hvm', 'CpuOptions': {'CoreCount': 1, 'ThreadsPerCore': 1}, 'HibernationOptions': {'Configured': False}}\n",
      "i-0f6b1c5cdd06e31ff\n",
      "\n",
      "\n",
      "{'AmiLaunchIndex': 0, 'ImageId': 'ami-0799ad445b5727125', 'InstanceId': 'i-0e42b04a7128cd69a', 'InstanceType': 't2.micro', 'KeyName': 'test_key', 'LaunchTime': datetime.datetime(2019, 2, 3, 21, 36, 34, tzinfo=tzutc()), 'Monitoring': {'State': 'disabled'}, 'Placement': {'AvailabilityZone': 'us-west-1a', 'GroupName': '', 'Tenancy': 'default'}, 'PrivateDnsName': '', 'ProductCodes': [], 'PublicDnsName': '', 'State': {'Code': 48, 'Name': 'terminated'}, 'StateTransitionReason': 'User initiated (2019-02-03 22:42:56 GMT)', 'Architecture': 'x86_64', 'BlockDeviceMappings': [], 'ClientToken': '', 'EbsOptimized': False, 'EnaSupport': True, 'Hypervisor': 'xen', 'NetworkInterfaces': [], 'RootDeviceName': '/dev/xvda', 'RootDeviceType': 'ebs', 'SecurityGroups': [], 'StateReason': {'Code': 'Client.UserInitiatedShutdown', 'Message': 'Client.UserInitiatedShutdown: User initiated shutdown'}, 'VirtualizationType': 'hvm', 'CpuOptions': {'CoreCount': 1, 'ThreadsPerCore': 1}, 'HibernationOptions': {'Configured': False}}\n",
      "i-0e42b04a7128cd69a\n",
      "\n",
      "\n",
      "{'AmiLaunchIndex': 1, 'ImageId': 'ami-0799ad445b5727125', 'InstanceId': 'i-0ac420fb1d1327cb3', 'InstanceType': 't2.micro', 'KeyName': 'ec2-keypair2', 'LaunchTime': datetime.datetime(2019, 2, 3, 22, 33, 5, tzinfo=tzutc()), 'Monitoring': {'State': 'disabled'}, 'Placement': {'AvailabilityZone': 'us-west-1a', 'GroupName': '', 'Tenancy': 'default'}, 'PrivateDnsName': '', 'ProductCodes': [], 'PublicDnsName': '', 'State': {'Code': 48, 'Name': 'terminated'}, 'StateTransitionReason': 'User initiated (2019-02-03 22:42:56 GMT)', 'Architecture': 'x86_64', 'BlockDeviceMappings': [], 'ClientToken': '', 'EbsOptimized': False, 'EnaSupport': True, 'Hypervisor': 'xen', 'NetworkInterfaces': [], 'RootDeviceName': '/dev/xvda', 'RootDeviceType': 'ebs', 'SecurityGroups': [], 'StateReason': {'Code': 'Client.UserInitiatedShutdown', 'Message': 'Client.UserInitiatedShutdown: User initiated shutdown'}, 'VirtualizationType': 'hvm', 'CpuOptions': {'CoreCount': 1, 'ThreadsPerCore': 1}, 'HibernationOptions': {'Configured': False}}\n",
      "i-0ac420fb1d1327cb3\n",
      "\n",
      "\n",
      "{'AmiLaunchIndex': 0, 'ImageId': 'ami-0799ad445b5727125', 'InstanceId': 'i-0a474771991d2b568', 'InstanceType': 't2.micro', 'KeyName': 'ec2-keypair2', 'LaunchTime': datetime.datetime(2019, 2, 3, 22, 33, 5, tzinfo=tzutc()), 'Monitoring': {'State': 'disabled'}, 'Placement': {'AvailabilityZone': 'us-west-1a', 'GroupName': '', 'Tenancy': 'default'}, 'PrivateDnsName': '', 'ProductCodes': [], 'PublicDnsName': '', 'State': {'Code': 48, 'Name': 'terminated'}, 'StateTransitionReason': 'User initiated (2019-02-03 22:42:56 GMT)', 'Architecture': 'x86_64', 'BlockDeviceMappings': [], 'ClientToken': '', 'EbsOptimized': False, 'EnaSupport': True, 'Hypervisor': 'xen', 'NetworkInterfaces': [], 'RootDeviceName': '/dev/xvda', 'RootDeviceType': 'ebs', 'SecurityGroups': [], 'StateReason': {'Code': 'Client.UserInitiatedShutdown', 'Message': 'Client.UserInitiatedShutdown: User initiated shutdown'}, 'VirtualizationType': 'hvm', 'CpuOptions': {'CoreCount': 1, 'ThreadsPerCore': 1}, 'HibernationOptions': {'Configured': False}}\n",
      "i-0a474771991d2b568\n",
      "\n",
      "\n",
      "{'AmiLaunchIndex': 1, 'ImageId': 'ami-0799ad445b5727125', 'InstanceId': 'i-034aabcba2ce1539f', 'InstanceType': 't2.micro', 'KeyName': 'ec2-keypair1', 'LaunchTime': datetime.datetime(2019, 2, 3, 22, 18, 40, tzinfo=tzutc()), 'Monitoring': {'State': 'disabled'}, 'Placement': {'AvailabilityZone': 'us-west-1a', 'GroupName': '', 'Tenancy': 'default'}, 'PrivateDnsName': '', 'ProductCodes': [], 'PublicDnsName': '', 'State': {'Code': 48, 'Name': 'terminated'}, 'StateTransitionReason': 'User initiated (2019-02-03 22:42:56 GMT)', 'Architecture': 'x86_64', 'BlockDeviceMappings': [], 'ClientToken': '', 'EbsOptimized': False, 'EnaSupport': True, 'Hypervisor': 'xen', 'NetworkInterfaces': [], 'RootDeviceName': '/dev/xvda', 'RootDeviceType': 'ebs', 'SecurityGroups': [], 'StateReason': {'Code': 'Client.UserInitiatedShutdown', 'Message': 'Client.UserInitiatedShutdown: User initiated shutdown'}, 'VirtualizationType': 'hvm', 'CpuOptions': {'CoreCount': 1, 'ThreadsPerCore': 1}, 'HibernationOptions': {'Configured': False}}\n",
      "i-034aabcba2ce1539f\n",
      "\n",
      "\n",
      "{'AmiLaunchIndex': 0, 'ImageId': 'ami-0799ad445b5727125', 'InstanceId': 'i-000ae16510694a939', 'InstanceType': 't2.micro', 'KeyName': 'ec2-keypair1', 'LaunchTime': datetime.datetime(2019, 2, 3, 22, 18, 40, tzinfo=tzutc()), 'Monitoring': {'State': 'disabled'}, 'Placement': {'AvailabilityZone': 'us-west-1a', 'GroupName': '', 'Tenancy': 'default'}, 'PrivateDnsName': '', 'ProductCodes': [], 'PublicDnsName': '', 'State': {'Code': 48, 'Name': 'terminated'}, 'StateTransitionReason': 'User initiated (2019-02-03 22:42:56 GMT)', 'Architecture': 'x86_64', 'BlockDeviceMappings': [], 'ClientToken': '', 'EbsOptimized': False, 'EnaSupport': True, 'Hypervisor': 'xen', 'NetworkInterfaces': [], 'RootDeviceName': '/dev/xvda', 'RootDeviceType': 'ebs', 'SecurityGroups': [], 'StateReason': {'Code': 'Client.UserInitiatedShutdown', 'Message': 'Client.UserInitiatedShutdown: User initiated shutdown'}, 'VirtualizationType': 'hvm', 'CpuOptions': {'CoreCount': 1, 'ThreadsPerCore': 1}, 'HibernationOptions': {'Configured': False}}\n",
      "i-000ae16510694a939\n",
      "\n",
      "\n",
      "{'AmiLaunchIndex': 0, 'ImageId': 'ami-0799ad445b5727125', 'InstanceId': 'i-01c8b2547dd9a64ae', 'InstanceType': 't2.micro', 'KeyName': 'ec2-keypair', 'LaunchTime': datetime.datetime(2019, 2, 3, 22, 46, 19, tzinfo=tzutc()), 'Monitoring': {'State': 'disabled'}, 'Placement': {'AvailabilityZone': 'us-west-1a', 'GroupName': '', 'Tenancy': 'default'}, 'PrivateDnsName': '', 'ProductCodes': [], 'PublicDnsName': '', 'State': {'Code': 48, 'Name': 'terminated'}, 'StateTransitionReason': 'User initiated (2019-02-03 22:57:00 GMT)', 'Architecture': 'x86_64', 'BlockDeviceMappings': [], 'ClientToken': '', 'EbsOptimized': False, 'EnaSupport': True, 'Hypervisor': 'xen', 'NetworkInterfaces': [], 'RootDeviceName': '/dev/xvda', 'RootDeviceType': 'ebs', 'SecurityGroups': [], 'StateReason': {'Code': 'Client.UserInitiatedShutdown', 'Message': 'Client.UserInitiatedShutdown: User initiated shutdown'}, 'VirtualizationType': 'hvm', 'CpuOptions': {'CoreCount': 1, 'ThreadsPerCore': 1}, 'HibernationOptions': {'Configured': False}}\n",
      "i-01c8b2547dd9a64ae\n",
      "\n",
      "\n",
      "{'AmiLaunchIndex': 1, 'ImageId': 'ami-0799ad445b5727125', 'InstanceId': 'i-0cce85d871b8ed39a', 'InstanceType': 't2.micro', 'KeyName': 'ec2-keypair', 'LaunchTime': datetime.datetime(2019, 2, 3, 22, 46, 19, tzinfo=tzutc()), 'Monitoring': {'State': 'disabled'}, 'Placement': {'AvailabilityZone': 'us-west-1a', 'GroupName': '', 'Tenancy': 'default'}, 'PrivateDnsName': '', 'ProductCodes': [], 'PublicDnsName': '', 'State': {'Code': 48, 'Name': 'terminated'}, 'StateTransitionReason': 'User initiated (2019-02-03 22:57:00 GMT)', 'Architecture': 'x86_64', 'BlockDeviceMappings': [], 'ClientToken': '', 'EbsOptimized': False, 'EnaSupport': True, 'Hypervisor': 'xen', 'NetworkInterfaces': [], 'RootDeviceName': '/dev/xvda', 'RootDeviceType': 'ebs', 'SecurityGroups': [], 'StateReason': {'Code': 'Client.UserInitiatedShutdown', 'Message': 'Client.UserInitiatedShutdown: User initiated shutdown'}, 'VirtualizationType': 'hvm', 'CpuOptions': {'CoreCount': 1, 'ThreadsPerCore': 1}, 'HibernationOptions': {'Configured': False}}\n",
      "i-0cce85d871b8ed39a\n",
      "\n",
      "\n",
      "{'AmiLaunchIndex': 1, 'ImageId': 'ami-0799ad445b5727125', 'InstanceId': 'i-00401108870596d2f', 'InstanceType': 't2.micro', 'KeyName': 'ec2-keypair1', 'LaunchTime': datetime.datetime(2019, 2, 3, 23, 2, tzinfo=tzutc()), 'Monitoring': {'State': 'disabled'}, 'Placement': {'AvailabilityZone': 'us-west-1a', 'GroupName': '', 'Tenancy': 'default'}, 'PrivateDnsName': 'ip-172-31-12-15.us-west-1.compute.internal', 'PrivateIpAddress': '172.31.12.15', 'ProductCodes': [], 'PublicDnsName': 'ec2-52-53-148-254.us-west-1.compute.amazonaws.com', 'PublicIpAddress': '52.53.148.254', 'State': {'Code': 16, 'Name': 'running'}, 'StateTransitionReason': '', 'SubnetId': 'subnet-f8b685a3', 'VpcId': 'vpc-7c99ad1b', 'Architecture': 'x86_64', 'BlockDeviceMappings': [{'DeviceName': '/dev/xvda', 'Ebs': {'AttachTime': datetime.datetime(2019, 2, 3, 23, 2, 1, tzinfo=tzutc()), 'DeleteOnTermination': True, 'Status': 'attached', 'VolumeId': 'vol-0f3f223642eb2157d'}}], 'ClientToken': '', 'EbsOptimized': False, 'EnaSupport': True, 'Hypervisor': 'xen', 'NetworkInterfaces': [{'Association': {'IpOwnerId': 'amazon', 'PublicDnsName': 'ec2-52-53-148-254.us-west-1.compute.amazonaws.com', 'PublicIp': '52.53.148.254'}, 'Attachment': {'AttachTime': datetime.datetime(2019, 2, 3, 23, 2, tzinfo=tzutc()), 'AttachmentId': 'eni-attach-014ccc321f9111d84', 'DeleteOnTermination': True, 'DeviceIndex': 0, 'Status': 'attached'}, 'Description': '', 'Groups': [{'GroupName': 'default', 'GroupId': 'sg-3f4c3545'}], 'Ipv6Addresses': [], 'MacAddress': '06:db:b1:44:37:86', 'NetworkInterfaceId': 'eni-0e96f3360d1b650a7', 'OwnerId': '676051035540', 'PrivateDnsName': 'ip-172-31-12-15.us-west-1.compute.internal', 'PrivateIpAddress': '172.31.12.15', 'PrivateIpAddresses': [{'Association': {'IpOwnerId': 'amazon', 'PublicDnsName': 'ec2-52-53-148-254.us-west-1.compute.amazonaws.com', 'PublicIp': '52.53.148.254'}, 'Primary': True, 'PrivateDnsName': 'ip-172-31-12-15.us-west-1.compute.internal', 'PrivateIpAddress': '172.31.12.15'}], 'SourceDestCheck': True, 'Status': 'in-use', 'SubnetId': 'subnet-f8b685a3', 'VpcId': 'vpc-7c99ad1b'}], 'RootDeviceName': '/dev/xvda', 'RootDeviceType': 'ebs', 'SecurityGroups': [{'GroupName': 'default', 'GroupId': 'sg-3f4c3545'}], 'SourceDestCheck': True, 'VirtualizationType': 'hvm', 'CpuOptions': {'CoreCount': 1, 'ThreadsPerCore': 1}, 'HibernationOptions': {'Configured': False}}\n",
      "i-00401108870596d2f\n",
      "\n",
      "\n",
      "{'AmiLaunchIndex': 0, 'ImageId': 'ami-0799ad445b5727125', 'InstanceId': 'i-0e6b4065cc6322650', 'InstanceType': 't2.micro', 'KeyName': 'ec2-keypair1', 'LaunchTime': datetime.datetime(2019, 2, 3, 23, 2, tzinfo=tzutc()), 'Monitoring': {'State': 'disabled'}, 'Placement': {'AvailabilityZone': 'us-west-1a', 'GroupName': '', 'Tenancy': 'default'}, 'PrivateDnsName': 'ip-172-31-4-252.us-west-1.compute.internal', 'PrivateIpAddress': '172.31.4.252', 'ProductCodes': [], 'PublicDnsName': 'ec2-54-219-171-198.us-west-1.compute.amazonaws.com', 'PublicIpAddress': '54.219.171.198', 'State': {'Code': 16, 'Name': 'running'}, 'StateTransitionReason': '', 'SubnetId': 'subnet-f8b685a3', 'VpcId': 'vpc-7c99ad1b', 'Architecture': 'x86_64', 'BlockDeviceMappings': [{'DeviceName': '/dev/xvda', 'Ebs': {'AttachTime': datetime.datetime(2019, 2, 3, 23, 2, 1, tzinfo=tzutc()), 'DeleteOnTermination': True, 'Status': 'attached', 'VolumeId': 'vol-04b5c1fe9b62b07bb'}}], 'ClientToken': '', 'EbsOptimized': False, 'EnaSupport': True, 'Hypervisor': 'xen', 'NetworkInterfaces': [{'Association': {'IpOwnerId': 'amazon', 'PublicDnsName': 'ec2-54-219-171-198.us-west-1.compute.amazonaws.com', 'PublicIp': '54.219.171.198'}, 'Attachment': {'AttachTime': datetime.datetime(2019, 2, 3, 23, 2, tzinfo=tzutc()), 'AttachmentId': 'eni-attach-0f6ebd6c2e2184bd8', 'DeleteOnTermination': True, 'DeviceIndex': 0, 'Status': 'attached'}, 'Description': '', 'Groups': [{'GroupName': 'default', 'GroupId': 'sg-3f4c3545'}], 'Ipv6Addresses': [], 'MacAddress': '06:c8:6a:a4:66:12', 'NetworkInterfaceId': 'eni-074e920c2b7b305d8', 'OwnerId': '676051035540', 'PrivateDnsName': 'ip-172-31-4-252.us-west-1.compute.internal', 'PrivateIpAddress': '172.31.4.252', 'PrivateIpAddresses': [{'Association': {'IpOwnerId': 'amazon', 'PublicDnsName': 'ec2-54-219-171-198.us-west-1.compute.amazonaws.com', 'PublicIp': '54.219.171.198'}, 'Primary': True, 'PrivateDnsName': 'ip-172-31-4-252.us-west-1.compute.internal', 'PrivateIpAddress': '172.31.4.252'}], 'SourceDestCheck': True, 'Status': 'in-use', 'SubnetId': 'subnet-f8b685a3', 'VpcId': 'vpc-7c99ad1b'}], 'RootDeviceName': '/dev/xvda', 'RootDeviceType': 'ebs', 'SecurityGroups': [{'GroupName': 'default', 'GroupId': 'sg-3f4c3545'}], 'SourceDestCheck': True, 'VirtualizationType': 'hvm', 'CpuOptions': {'CoreCount': 1, 'ThreadsPerCore': 1}, 'HibernationOptions': {'Configured': False}}\n",
      "i-0e6b4065cc6322650\n",
      "\n",
      "\n",
      "{'AmiLaunchIndex': 1, 'ImageId': 'ami-0799ad445b5727125', 'InstanceId': 'i-0470affbd39e21f06', 'InstanceType': 't2.micro', 'KeyName': 'ec2-keypair', 'LaunchTime': datetime.datetime(2019, 2, 3, 22, 45, 52, tzinfo=tzutc()), 'Monitoring': {'State': 'disabled'}, 'Placement': {'AvailabilityZone': 'us-west-1a', 'GroupName': '', 'Tenancy': 'default'}, 'PrivateDnsName': '', 'ProductCodes': [], 'PublicDnsName': '', 'State': {'Code': 48, 'Name': 'terminated'}, 'StateTransitionReason': 'User initiated (2019-02-03 22:57:00 GMT)', 'Architecture': 'x86_64', 'BlockDeviceMappings': [], 'ClientToken': '', 'EbsOptimized': False, 'EnaSupport': True, 'Hypervisor': 'xen', 'NetworkInterfaces': [], 'RootDeviceName': '/dev/xvda', 'RootDeviceType': 'ebs', 'SecurityGroups': [], 'StateReason': {'Code': 'Client.UserInitiatedShutdown', 'Message': 'Client.UserInitiatedShutdown: User initiated shutdown'}, 'VirtualizationType': 'hvm', 'CpuOptions': {'CoreCount': 1, 'ThreadsPerCore': 1}, 'HibernationOptions': {'Configured': False}}\n",
      "i-0470affbd39e21f06\n",
      "\n",
      "\n",
      "{'AmiLaunchIndex': 0, 'ImageId': 'ami-0799ad445b5727125', 'InstanceId': 'i-062585d20bc5b73a3', 'InstanceType': 't2.micro', 'KeyName': 'ec2-keypair', 'LaunchTime': datetime.datetime(2019, 2, 3, 22, 45, 52, tzinfo=tzutc()), 'Monitoring': {'State': 'disabled'}, 'Placement': {'AvailabilityZone': 'us-west-1a', 'GroupName': '', 'Tenancy': 'default'}, 'PrivateDnsName': '', 'ProductCodes': [], 'PublicDnsName': '', 'State': {'Code': 48, 'Name': 'terminated'}, 'StateTransitionReason': 'User initiated (2019-02-03 22:57:00 GMT)', 'Architecture': 'x86_64', 'BlockDeviceMappings': [], 'ClientToken': '', 'EbsOptimized': False, 'EnaSupport': True, 'Hypervisor': 'xen', 'NetworkInterfaces': [], 'RootDeviceName': '/dev/xvda', 'RootDeviceType': 'ebs', 'SecurityGroups': [], 'StateReason': {'Code': 'Client.UserInitiatedShutdown', 'Message': 'Client.UserInitiatedShutdown: User initiated shutdown'}, 'VirtualizationType': 'hvm', 'CpuOptions': {'CoreCount': 1, 'ThreadsPerCore': 1}, 'HibernationOptions': {'Configured': False}}\n",
      "i-062585d20bc5b73a3\n",
      "\n",
      "\n",
      "{'AmiLaunchIndex': 0, 'ImageId': 'ami-0799ad445b5727125', 'InstanceId': 'i-005f6787dd53b3920', 'InstanceType': 't2.micro', 'KeyName': 'ec2-keypair2', 'LaunchTime': datetime.datetime(2019, 2, 3, 23, 33, 49, tzinfo=tzutc()), 'Monitoring': {'State': 'disabled'}, 'Placement': {'AvailabilityZone': 'us-west-1a', 'GroupName': '', 'Tenancy': 'default'}, 'PrivateDnsName': 'ip-172-31-13-55.us-west-1.compute.internal', 'PrivateIpAddress': '172.31.13.55', 'ProductCodes': [], 'PublicDnsName': 'ec2-13-52-76-15.us-west-1.compute.amazonaws.com', 'PublicIpAddress': '13.52.76.15', 'State': {'Code': 16, 'Name': 'running'}, 'StateTransitionReason': '', 'SubnetId': 'subnet-f8b685a3', 'VpcId': 'vpc-7c99ad1b', 'Architecture': 'x86_64', 'BlockDeviceMappings': [{'DeviceName': '/dev/xvda', 'Ebs': {'AttachTime': datetime.datetime(2019, 2, 3, 23, 33, 50, tzinfo=tzutc()), 'DeleteOnTermination': True, 'Status': 'attached', 'VolumeId': 'vol-0f1bf28bc57b5aabe'}}], 'ClientToken': '', 'EbsOptimized': False, 'EnaSupport': True, 'Hypervisor': 'xen', 'NetworkInterfaces': [{'Association': {'IpOwnerId': 'amazon', 'PublicDnsName': 'ec2-13-52-76-15.us-west-1.compute.amazonaws.com', 'PublicIp': '13.52.76.15'}, 'Attachment': {'AttachTime': datetime.datetime(2019, 2, 3, 23, 33, 49, tzinfo=tzutc()), 'AttachmentId': 'eni-attach-0490b3851d49c0c65', 'DeleteOnTermination': True, 'DeviceIndex': 0, 'Status': 'attached'}, 'Description': '', 'Groups': [{'GroupName': 'default', 'GroupId': 'sg-3f4c3545'}], 'Ipv6Addresses': [], 'MacAddress': '06:82:e4:37:41:72', 'NetworkInterfaceId': 'eni-0bb600402da67f39f', 'OwnerId': '676051035540', 'PrivateDnsName': 'ip-172-31-13-55.us-west-1.compute.internal', 'PrivateIpAddress': '172.31.13.55', 'PrivateIpAddresses': [{'Association': {'IpOwnerId': 'amazon', 'PublicDnsName': 'ec2-13-52-76-15.us-west-1.compute.amazonaws.com', 'PublicIp': '13.52.76.15'}, 'Primary': True, 'PrivateDnsName': 'ip-172-31-13-55.us-west-1.compute.internal', 'PrivateIpAddress': '172.31.13.55'}], 'SourceDestCheck': True, 'Status': 'in-use', 'SubnetId': 'subnet-f8b685a3', 'VpcId': 'vpc-7c99ad1b'}], 'RootDeviceName': '/dev/xvda', 'RootDeviceType': 'ebs', 'SecurityGroups': [{'GroupName': 'default', 'GroupId': 'sg-3f4c3545'}], 'SourceDestCheck': True, 'VirtualizationType': 'hvm', 'CpuOptions': {'CoreCount': 1, 'ThreadsPerCore': 1}, 'HibernationOptions': {'Configured': False}}\n",
      "i-005f6787dd53b3920\n",
      "\n",
      "\n",
      "{'AmiLaunchIndex': 1, 'ImageId': 'ami-0799ad445b5727125', 'InstanceId': 'i-0804a1e7215c0739b', 'InstanceType': 't2.micro', 'KeyName': 'ec2-keypair2', 'LaunchTime': datetime.datetime(2019, 2, 3, 23, 33, 49, tzinfo=tzutc()), 'Monitoring': {'State': 'disabled'}, 'Placement': {'AvailabilityZone': 'us-west-1a', 'GroupName': '', 'Tenancy': 'default'}, 'PrivateDnsName': 'ip-172-31-7-56.us-west-1.compute.internal', 'PrivateIpAddress': '172.31.7.56', 'ProductCodes': [], 'PublicDnsName': 'ec2-54-193-71-41.us-west-1.compute.amazonaws.com', 'PublicIpAddress': '54.193.71.41', 'State': {'Code': 16, 'Name': 'running'}, 'StateTransitionReason': '', 'SubnetId': 'subnet-f8b685a3', 'VpcId': 'vpc-7c99ad1b', 'Architecture': 'x86_64', 'BlockDeviceMappings': [{'DeviceName': '/dev/xvda', 'Ebs': {'AttachTime': datetime.datetime(2019, 2, 3, 23, 33, 50, tzinfo=tzutc()), 'DeleteOnTermination': True, 'Status': 'attached', 'VolumeId': 'vol-096389f4669a07efd'}}], 'ClientToken': '', 'EbsOptimized': False, 'EnaSupport': True, 'Hypervisor': 'xen', 'NetworkInterfaces': [{'Association': {'IpOwnerId': 'amazon', 'PublicDnsName': 'ec2-54-193-71-41.us-west-1.compute.amazonaws.com', 'PublicIp': '54.193.71.41'}, 'Attachment': {'AttachTime': datetime.datetime(2019, 2, 3, 23, 33, 49, tzinfo=tzutc()), 'AttachmentId': 'eni-attach-0595428bbe94ca990', 'DeleteOnTermination': True, 'DeviceIndex': 0, 'Status': 'attached'}, 'Description': '', 'Groups': [{'GroupName': 'default', 'GroupId': 'sg-3f4c3545'}], 'Ipv6Addresses': [], 'MacAddress': '06:30:19:ae:47:1c', 'NetworkInterfaceId': 'eni-069d72f65ca120eda', 'OwnerId': '676051035540', 'PrivateDnsName': 'ip-172-31-7-56.us-west-1.compute.internal', 'PrivateIpAddress': '172.31.7.56', 'PrivateIpAddresses': [{'Association': {'IpOwnerId': 'amazon', 'PublicDnsName': 'ec2-54-193-71-41.us-west-1.compute.amazonaws.com', 'PublicIp': '54.193.71.41'}, 'Primary': True, 'PrivateDnsName': 'ip-172-31-7-56.us-west-1.compute.internal', 'PrivateIpAddress': '172.31.7.56'}], 'SourceDestCheck': True, 'Status': 'in-use', 'SubnetId': 'subnet-f8b685a3', 'VpcId': 'vpc-7c99ad1b'}], 'RootDeviceName': '/dev/xvda', 'RootDeviceType': 'ebs', 'SecurityGroups': [{'GroupName': 'default', 'GroupId': 'sg-3f4c3545'}], 'SourceDestCheck': True, 'VirtualizationType': 'hvm', 'CpuOptions': {'CoreCount': 1, 'ThreadsPerCore': 1}, 'HibernationOptions': {'Configured': False}}\n",
      "i-0804a1e7215c0739b\n",
      "\n",
      "\n",
      "{'AmiLaunchIndex': 1, 'ImageId': 'ami-0799ad445b5727125', 'InstanceId': 'i-0b76f46604e5e626e', 'InstanceType': 't2.micro', 'KeyName': 'ec2-keypair2', 'LaunchTime': datetime.datetime(2019, 2, 3, 22, 33, 35, tzinfo=tzutc()), 'Monitoring': {'State': 'disabled'}, 'Placement': {'AvailabilityZone': 'us-west-1a', 'GroupName': '', 'Tenancy': 'default'}, 'PrivateDnsName': '', 'ProductCodes': [], 'PublicDnsName': '', 'State': {'Code': 48, 'Name': 'terminated'}, 'StateTransitionReason': 'User initiated (2019-02-03 22:42:56 GMT)', 'Architecture': 'x86_64', 'BlockDeviceMappings': [], 'ClientToken': '', 'EbsOptimized': False, 'EnaSupport': True, 'Hypervisor': 'xen', 'NetworkInterfaces': [], 'RootDeviceName': '/dev/xvda', 'RootDeviceType': 'ebs', 'SecurityGroups': [], 'StateReason': {'Code': 'Client.UserInitiatedShutdown', 'Message': 'Client.UserInitiatedShutdown: User initiated shutdown'}, 'VirtualizationType': 'hvm', 'CpuOptions': {'CoreCount': 1, 'ThreadsPerCore': 1}, 'HibernationOptions': {'Configured': False}}\n",
      "i-0b76f46604e5e626e\n",
      "\n",
      "\n",
      "{'AmiLaunchIndex': 0, 'ImageId': 'ami-0799ad445b5727125', 'InstanceId': 'i-0716b4986538ba465', 'InstanceType': 't2.micro', 'KeyName': 'ec2-keypair2', 'LaunchTime': datetime.datetime(2019, 2, 3, 22, 33, 35, tzinfo=tzutc()), 'Monitoring': {'State': 'disabled'}, 'Placement': {'AvailabilityZone': 'us-west-1a', 'GroupName': '', 'Tenancy': 'default'}, 'PrivateDnsName': '', 'ProductCodes': [], 'PublicDnsName': '', 'State': {'Code': 48, 'Name': 'terminated'}, 'StateTransitionReason': 'User initiated (2019-02-03 22:42:56 GMT)', 'Architecture': 'x86_64', 'BlockDeviceMappings': [], 'ClientToken': '', 'EbsOptimized': False, 'EnaSupport': True, 'Hypervisor': 'xen', 'NetworkInterfaces': [], 'RootDeviceName': '/dev/xvda', 'RootDeviceType': 'ebs', 'SecurityGroups': [], 'StateReason': {'Code': 'Client.UserInitiatedShutdown', 'Message': 'Client.UserInitiatedShutdown: User initiated shutdown'}, 'VirtualizationType': 'hvm', 'CpuOptions': {'CoreCount': 1, 'ThreadsPerCore': 1}, 'HibernationOptions': {'Configured': False}}\n",
      "i-0716b4986538ba465\n",
      "\n",
      "\n",
      "{'AmiLaunchIndex': 1, 'ImageId': 'ami-0799ad445b5727125', 'InstanceId': 'i-04ad0665613c677cb', 'InstanceType': 't2.micro', 'KeyName': 'ec2-keypair2', 'LaunchTime': datetime.datetime(2019, 2, 3, 22, 46, 54, tzinfo=tzutc()), 'Monitoring': {'State': 'disabled'}, 'Placement': {'AvailabilityZone': 'us-west-1a', 'GroupName': '', 'Tenancy': 'default'}, 'PrivateDnsName': '', 'ProductCodes': [], 'PublicDnsName': '', 'State': {'Code': 48, 'Name': 'terminated'}, 'StateTransitionReason': 'User initiated (2019-02-03 22:57:00 GMT)', 'Architecture': 'x86_64', 'BlockDeviceMappings': [], 'ClientToken': '', 'EbsOptimized': False, 'EnaSupport': True, 'Hypervisor': 'xen', 'NetworkInterfaces': [], 'RootDeviceName': '/dev/xvda', 'RootDeviceType': 'ebs', 'SecurityGroups': [], 'StateReason': {'Code': 'Client.UserInitiatedShutdown', 'Message': 'Client.UserInitiatedShutdown: User initiated shutdown'}, 'VirtualizationType': 'hvm', 'CpuOptions': {'CoreCount': 1, 'ThreadsPerCore': 1}, 'HibernationOptions': {'Configured': False}}\n",
      "i-04ad0665613c677cb\n",
      "\n",
      "\n",
      "{'AmiLaunchIndex': 0, 'ImageId': 'ami-0799ad445b5727125', 'InstanceId': 'i-094d699225e2890bc', 'InstanceType': 't2.micro', 'KeyName': 'ec2-keypair2', 'LaunchTime': datetime.datetime(2019, 2, 3, 22, 46, 54, tzinfo=tzutc()), 'Monitoring': {'State': 'disabled'}, 'Placement': {'AvailabilityZone': 'us-west-1a', 'GroupName': '', 'Tenancy': 'default'}, 'PrivateDnsName': '', 'ProductCodes': [], 'PublicDnsName': '', 'State': {'Code': 48, 'Name': 'terminated'}, 'StateTransitionReason': 'User initiated (2019-02-03 22:57:00 GMT)', 'Architecture': 'x86_64', 'BlockDeviceMappings': [], 'ClientToken': '', 'EbsOptimized': False, 'EnaSupport': True, 'Hypervisor': 'xen', 'NetworkInterfaces': [], 'RootDeviceName': '/dev/xvda', 'RootDeviceType': 'ebs', 'SecurityGroups': [], 'StateReason': {'Code': 'Client.UserInitiatedShutdown', 'Message': 'Client.UserInitiatedShutdown: User initiated shutdown'}, 'VirtualizationType': 'hvm', 'CpuOptions': {'CoreCount': 1, 'ThreadsPerCore': 1}, 'HibernationOptions': {'Configured': False}}\n",
      "i-094d699225e2890bc\n",
      "\n",
      "\n",
      "{'AmiLaunchIndex': 1, 'ImageId': 'ami-0799ad445b5727125', 'InstanceId': 'i-03cf1db1f99cd0688', 'InstanceType': 't2.micro', 'KeyName': 'ec2-keypair2', 'LaunchTime': datetime.datetime(2019, 2, 3, 22, 33, 36, tzinfo=tzutc()), 'Monitoring': {'State': 'disabled'}, 'Placement': {'AvailabilityZone': 'us-west-1a', 'GroupName': '', 'Tenancy': 'default'}, 'PrivateDnsName': '', 'ProductCodes': [], 'PublicDnsName': '', 'State': {'Code': 48, 'Name': 'terminated'}, 'StateTransitionReason': 'User initiated (2019-02-03 22:42:56 GMT)', 'Architecture': 'x86_64', 'BlockDeviceMappings': [], 'ClientToken': '', 'EbsOptimized': False, 'EnaSupport': True, 'Hypervisor': 'xen', 'NetworkInterfaces': [], 'RootDeviceName': '/dev/xvda', 'RootDeviceType': 'ebs', 'SecurityGroups': [], 'StateReason': {'Code': 'Client.UserInitiatedShutdown', 'Message': 'Client.UserInitiatedShutdown: User initiated shutdown'}, 'VirtualizationType': 'hvm', 'CpuOptions': {'CoreCount': 1, 'ThreadsPerCore': 1}, 'HibernationOptions': {'Configured': False}}\n",
      "i-03cf1db1f99cd0688\n",
      "\n",
      "\n",
      "{'AmiLaunchIndex': 0, 'ImageId': 'ami-0799ad445b5727125', 'InstanceId': 'i-01210ab72cecc9e9d', 'InstanceType': 't2.micro', 'KeyName': 'ec2-keypair2', 'LaunchTime': datetime.datetime(2019, 2, 3, 22, 33, 36, tzinfo=tzutc()), 'Monitoring': {'State': 'disabled'}, 'Placement': {'AvailabilityZone': 'us-west-1a', 'GroupName': '', 'Tenancy': 'default'}, 'PrivateDnsName': '', 'ProductCodes': [], 'PublicDnsName': '', 'State': {'Code': 48, 'Name': 'terminated'}, 'StateTransitionReason': 'User initiated (2019-02-03 22:42:56 GMT)', 'Architecture': 'x86_64', 'BlockDeviceMappings': [], 'ClientToken': '', 'EbsOptimized': False, 'EnaSupport': True, 'Hypervisor': 'xen', 'NetworkInterfaces': [], 'RootDeviceName': '/dev/xvda', 'RootDeviceType': 'ebs', 'SecurityGroups': [], 'StateReason': {'Code': 'Client.UserInitiatedShutdown', 'Message': 'Client.UserInitiatedShutdown: User initiated shutdown'}, 'VirtualizationType': 'hvm', 'CpuOptions': {'CoreCount': 1, 'ThreadsPerCore': 1}, 'HibernationOptions': {'Configured': False}}\n",
      "i-01210ab72cecc9e9d\n",
      "\n",
      "\n"
     ]
    }
   ],
   "source": [
    "#%%\n",
    "import boto3\n",
    "from ipywidgets import widgets\n",
    "ec2 = boto3.resource('ec2')\n",
    "button = widgets.Button(description = \"create instance\")\n",
    "display(button)\n",
    "def on_button_clicked(b):\n",
    "    print(\"clicked\")\n",
    "    ec2client = boto3.client('ec2')\n",
    "    response = ec2client.describe_instances()\n",
    "    for reservation in response[\"Reservations\"]:\n",
    "        for instance in reservation[\"Instances\"]:\n",
    "            # This sample print will output entire Dictionary object\n",
    "            print(instance)\n",
    "\n",
    "            # This will print will output the value of the Dictionary key 'InstanceId'\n",
    "            print(instance[\"InstanceId\"])\n",
    "\n",
    "            print(\"\")\n",
    "            print(\"\")\n",
    "\n",
    "button.on_click(on_button_clicked)"
   ]
  },
  {
   "cell_type": "code",
   "execution_count": null,
   "metadata": {},
   "outputs": [],
   "source": []
  }
 ],
 "metadata": {
  "kernelspec": {
   "display_name": "Python 3",
   "language": "python",
   "name": "python3"
  },
  "language_info": {
   "codemirror_mode": {
    "name": "ipython",
    "version": 3
   },
   "file_extension": ".py",
   "mimetype": "text/x-python",
   "name": "python",
   "nbconvert_exporter": "python",
   "pygments_lexer": "ipython3",
   "version": "3.7.2"
  }
 },
 "nbformat": 4,
 "nbformat_minor": 2
}
